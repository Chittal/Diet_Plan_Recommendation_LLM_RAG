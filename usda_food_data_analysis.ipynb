{
 "cells": [
  {
   "cell_type": "code",
   "execution_count": 1,
   "metadata": {},
   "outputs": [
    {
     "name": "stdout",
     "output_type": "stream",
     "text": [
      "Requirement already satisfied: pandas in c:\\users\\palan\\downloads\\diet_plan_recom_chatbot\\venv\\lib\\site-packages (2.2.3)\n",
      "Requirement already satisfied: numpy>=1.23.2 in c:\\users\\palan\\downloads\\diet_plan_recom_chatbot\\venv\\lib\\site-packages (from pandas) (1.26.4)\n",
      "Requirement already satisfied: python-dateutil>=2.8.2 in c:\\users\\palan\\downloads\\diet_plan_recom_chatbot\\venv\\lib\\site-packages (from pandas) (2.9.0.post0)\n",
      "Requirement already satisfied: pytz>=2020.1 in c:\\users\\palan\\downloads\\diet_plan_recom_chatbot\\venv\\lib\\site-packages (from pandas) (2024.2)\n",
      "Requirement already satisfied: tzdata>=2022.7 in c:\\users\\palan\\downloads\\diet_plan_recom_chatbot\\venv\\lib\\site-packages (from pandas) (2024.2)\n",
      "Requirement already satisfied: six>=1.5 in c:\\users\\palan\\downloads\\diet_plan_recom_chatbot\\venv\\lib\\site-packages (from python-dateutil>=2.8.2->pandas) (1.16.0)\n",
      "Note: you may need to restart the kernel to use updated packages.\n"
     ]
    },
    {
     "name": "stderr",
     "output_type": "stream",
     "text": [
      "\n",
      "[notice] A new release of pip is available: 24.0 -> 24.3.1\n",
      "[notice] To update, run: python.exe -m pip install --upgrade pip\n"
     ]
    },
    {
     "name": "stdout",
     "output_type": "stream",
     "text": [
      "Collecting psycopg2-binary\n",
      "  Downloading psycopg2_binary-2.9.10-cp311-cp311-win_amd64.whl.metadata (5.0 kB)\n",
      "Requirement already satisfied: sqlalchemy in c:\\users\\palan\\downloads\\diet_plan_recom_chatbot\\venv\\lib\\site-packages (2.0.35)\n",
      "Requirement already satisfied: typing-extensions>=4.6.0 in c:\\users\\palan\\downloads\\diet_plan_recom_chatbot\\venv\\lib\\site-packages (from sqlalchemy) (4.12.2)\n",
      "Requirement already satisfied: greenlet!=0.4.17 in c:\\users\\palan\\downloads\\diet_plan_recom_chatbot\\venv\\lib\\site-packages (from sqlalchemy) (3.1.1)\n",
      "Downloading psycopg2_binary-2.9.10-cp311-cp311-win_amd64.whl (1.2 MB)\n",
      "   ---------------------------------------- 0.0/1.2 MB ? eta -:--:--\n",
      "   ---------------------------------------- 0.0/1.2 MB ? eta -:--:--\n",
      "   - -------------------------------------- 0.0/1.2 MB 660.6 kB/s eta 0:00:02\n",
      "   -- ------------------------------------- 0.1/1.2 MB 919.0 kB/s eta 0:00:02\n",
      "   ---- ----------------------------------- 0.1/1.2 MB 1.1 MB/s eta 0:00:01\n",
      "   ------ --------------------------------- 0.2/1.2 MB 1.1 MB/s eta 0:00:01\n",
      "   -------- ------------------------------- 0.2/1.2 MB 1.1 MB/s eta 0:00:01\n",
      "   ---------- ----------------------------- 0.3/1.2 MB 1.1 MB/s eta 0:00:01\n",
      "   ------------ --------------------------- 0.4/1.2 MB 1.1 MB/s eta 0:00:01\n",
      "   --------------- ------------------------ 0.5/1.2 MB 1.2 MB/s eta 0:00:01\n",
      "   ----------------- ---------------------- 0.5/1.2 MB 1.2 MB/s eta 0:00:01\n",
      "   ------------------- -------------------- 0.6/1.2 MB 1.3 MB/s eta 0:00:01\n",
      "   --------------------- ------------------ 0.6/1.2 MB 1.2 MB/s eta 0:00:01\n",
      "   ----------------------- ---------------- 0.7/1.2 MB 1.3 MB/s eta 0:00:01\n",
      "   -------------------------- ------------- 0.8/1.2 MB 1.3 MB/s eta 0:00:01\n",
      "   ---------------------------- ----------- 0.8/1.2 MB 1.3 MB/s eta 0:00:01\n",
      "   -------------------------------- ------- 0.9/1.2 MB 1.3 MB/s eta 0:00:01\n",
      "   ---------------------------------- ----- 1.0/1.2 MB 1.4 MB/s eta 0:00:01\n",
      "   ------------------------------------ --- 1.1/1.2 MB 1.4 MB/s eta 0:00:01\n",
      "   ---------------------------------------  1.2/1.2 MB 1.4 MB/s eta 0:00:01\n",
      "   ---------------------------------------- 1.2/1.2 MB 1.4 MB/s eta 0:00:00\n",
      "Installing collected packages: psycopg2-binary\n",
      "Successfully installed psycopg2-binary-2.9.10\n",
      "Note: you may need to restart the kernel to use updated packages.\n"
     ]
    },
    {
     "name": "stderr",
     "output_type": "stream",
     "text": [
      "\n",
      "[notice] A new release of pip is available: 24.0 -> 24.3.1\n",
      "[notice] To update, run: python.exe -m pip install --upgrade pip\n"
     ]
    }
   ],
   "source": [
    "%pip install pandas\n",
    "%pip install psycopg2-binary sqlalchemy"
   ]
  },
  {
   "cell_type": "code",
   "execution_count": 24,
   "metadata": {},
   "outputs": [
    {
     "data": {
      "text/plain": [
       "True"
      ]
     },
     "execution_count": 24,
     "metadata": {},
     "output_type": "execute_result"
    }
   ],
   "source": [
    "import pandas as pd\n",
    "import os\n",
    "\n",
    "from sqlalchemy import create_engine\n",
    "from dotenv import load_dotenv\n",
    "\n",
    "load_dotenv()"
   ]
  },
  {
   "cell_type": "code",
   "execution_count": 3,
   "metadata": {},
   "outputs": [],
   "source": [
    "BASE_DIR = 'data/food_data'\n",
    "FOUNDATION_FOOD_PATH = 'foundation_food'\n",
    "BRANDED_FOOD_PATH =  'branded_food'"
   ]
  },
  {
   "cell_type": "code",
   "execution_count": 4,
   "metadata": {},
   "outputs": [
    {
     "data": {
      "text/html": [
       "<div>\n",
       "<style scoped>\n",
       "    .dataframe tbody tr th:only-of-type {\n",
       "        vertical-align: middle;\n",
       "    }\n",
       "\n",
       "    .dataframe tbody tr th {\n",
       "        vertical-align: top;\n",
       "    }\n",
       "\n",
       "    .dataframe thead th {\n",
       "        text-align: right;\n",
       "    }\n",
       "</style>\n",
       "<table border=\"1\" class=\"dataframe\">\n",
       "  <thead>\n",
       "    <tr style=\"text-align: right;\">\n",
       "      <th></th>\n",
       "      <th>fdc_id</th>\n",
       "      <th>data_type</th>\n",
       "      <th>description</th>\n",
       "      <th>food_category_id</th>\n",
       "      <th>publication_date</th>\n",
       "    </tr>\n",
       "  </thead>\n",
       "  <tbody>\n",
       "    <tr>\n",
       "      <th>0</th>\n",
       "      <td>319874</td>\n",
       "      <td>sample_food</td>\n",
       "      <td>HUMMUS, SABRA CLASSIC</td>\n",
       "      <td>16.0</td>\n",
       "      <td>2019-04-01</td>\n",
       "    </tr>\n",
       "    <tr>\n",
       "      <th>1</th>\n",
       "      <td>319875</td>\n",
       "      <td>market_acquisition</td>\n",
       "      <td>HUMMUS, SABRA CLASSIC</td>\n",
       "      <td>16.0</td>\n",
       "      <td>2019-04-01</td>\n",
       "    </tr>\n",
       "    <tr>\n",
       "      <th>2</th>\n",
       "      <td>319876</td>\n",
       "      <td>market_acquisition</td>\n",
       "      <td>HUMMUS, SABRA CLASSIC</td>\n",
       "      <td>16.0</td>\n",
       "      <td>2019-04-01</td>\n",
       "    </tr>\n",
       "    <tr>\n",
       "      <th>3</th>\n",
       "      <td>319877</td>\n",
       "      <td>sub_sample_food</td>\n",
       "      <td>Hummus</td>\n",
       "      <td>16.0</td>\n",
       "      <td>2019-04-01</td>\n",
       "    </tr>\n",
       "    <tr>\n",
       "      <th>4</th>\n",
       "      <td>319878</td>\n",
       "      <td>sub_sample_food</td>\n",
       "      <td>Hummus</td>\n",
       "      <td>16.0</td>\n",
       "      <td>2019-04-01</td>\n",
       "    </tr>\n",
       "  </tbody>\n",
       "</table>\n",
       "</div>"
      ],
      "text/plain": [
       "   fdc_id           data_type            description  food_category_id  \\\n",
       "0  319874         sample_food  HUMMUS, SABRA CLASSIC              16.0   \n",
       "1  319875  market_acquisition  HUMMUS, SABRA CLASSIC              16.0   \n",
       "2  319876  market_acquisition  HUMMUS, SABRA CLASSIC              16.0   \n",
       "3  319877     sub_sample_food                 Hummus              16.0   \n",
       "4  319878     sub_sample_food                 Hummus              16.0   \n",
       "\n",
       "  publication_date  \n",
       "0       2019-04-01  \n",
       "1       2019-04-01  \n",
       "2       2019-04-01  \n",
       "3       2019-04-01  \n",
       "4       2019-04-01  "
      ]
     },
     "execution_count": 4,
     "metadata": {},
     "output_type": "execute_result"
    }
   ],
   "source": [
    "foundation_food_2024 = pd.read_csv(BASE_DIR + '/' + FOUNDATION_FOOD_PATH + '/Apr_2024/food.csv')\n",
    "foundation_food_2024.head()"
   ]
  },
  {
   "cell_type": "code",
   "execution_count": 5,
   "metadata": {},
   "outputs": [
    {
     "name": "stderr",
     "output_type": "stream",
     "text": [
      "C:\\Users\\palan\\AppData\\Local\\Temp\\ipykernel_2036\\1328151036.py:1: DtypeWarning: Columns (9) have mixed types. Specify dtype option on import or set low_memory=False.\n",
      "  foundation_food_nutrient_2024 = pd.read_csv(BASE_DIR + '/' + FOUNDATION_FOOD_PATH + '/Apr_2024/food_nutrient.csv')\n"
     ]
    },
    {
     "data": {
      "text/html": [
       "<div>\n",
       "<style scoped>\n",
       "    .dataframe tbody tr th:only-of-type {\n",
       "        vertical-align: middle;\n",
       "    }\n",
       "\n",
       "    .dataframe tbody tr th {\n",
       "        vertical-align: top;\n",
       "    }\n",
       "\n",
       "    .dataframe thead th {\n",
       "        text-align: right;\n",
       "    }\n",
       "</style>\n",
       "<table border=\"1\" class=\"dataframe\">\n",
       "  <thead>\n",
       "    <tr style=\"text-align: right;\">\n",
       "      <th></th>\n",
       "      <th>id</th>\n",
       "      <th>fdc_id</th>\n",
       "      <th>nutrient_id</th>\n",
       "      <th>amount</th>\n",
       "      <th>data_points</th>\n",
       "      <th>derivation_id</th>\n",
       "      <th>min</th>\n",
       "      <th>max</th>\n",
       "      <th>median</th>\n",
       "      <th>footnote</th>\n",
       "      <th>min_year_acquired</th>\n",
       "    </tr>\n",
       "  </thead>\n",
       "  <tbody>\n",
       "    <tr>\n",
       "      <th>0</th>\n",
       "      <td>2201847</td>\n",
       "      <td>319877</td>\n",
       "      <td>1051</td>\n",
       "      <td>56.30</td>\n",
       "      <td>1.0</td>\n",
       "      <td>1.0</td>\n",
       "      <td>NaN</td>\n",
       "      <td>NaN</td>\n",
       "      <td>NaN</td>\n",
       "      <td>NaN</td>\n",
       "      <td>NaN</td>\n",
       "    </tr>\n",
       "    <tr>\n",
       "      <th>1</th>\n",
       "      <td>2201845</td>\n",
       "      <td>319877</td>\n",
       "      <td>1002</td>\n",
       "      <td>1.28</td>\n",
       "      <td>1.0</td>\n",
       "      <td>1.0</td>\n",
       "      <td>NaN</td>\n",
       "      <td>NaN</td>\n",
       "      <td>NaN</td>\n",
       "      <td>NaN</td>\n",
       "      <td>NaN</td>\n",
       "    </tr>\n",
       "    <tr>\n",
       "      <th>2</th>\n",
       "      <td>2201846</td>\n",
       "      <td>319877</td>\n",
       "      <td>1004</td>\n",
       "      <td>19.00</td>\n",
       "      <td>1.0</td>\n",
       "      <td>1.0</td>\n",
       "      <td>NaN</td>\n",
       "      <td>NaN</td>\n",
       "      <td>NaN</td>\n",
       "      <td>NaN</td>\n",
       "      <td>NaN</td>\n",
       "    </tr>\n",
       "    <tr>\n",
       "      <th>3</th>\n",
       "      <td>2201844</td>\n",
       "      <td>319877</td>\n",
       "      <td>1007</td>\n",
       "      <td>1.98</td>\n",
       "      <td>1.0</td>\n",
       "      <td>1.0</td>\n",
       "      <td>NaN</td>\n",
       "      <td>NaN</td>\n",
       "      <td>NaN</td>\n",
       "      <td>NaN</td>\n",
       "      <td>NaN</td>\n",
       "    </tr>\n",
       "    <tr>\n",
       "      <th>4</th>\n",
       "      <td>2201852</td>\n",
       "      <td>319878</td>\n",
       "      <td>1091</td>\n",
       "      <td>188.00</td>\n",
       "      <td>1.0</td>\n",
       "      <td>1.0</td>\n",
       "      <td>NaN</td>\n",
       "      <td>NaN</td>\n",
       "      <td>NaN</td>\n",
       "      <td>NaN</td>\n",
       "      <td>NaN</td>\n",
       "    </tr>\n",
       "  </tbody>\n",
       "</table>\n",
       "</div>"
      ],
      "text/plain": [
       "        id  fdc_id  nutrient_id  amount  data_points  derivation_id  min  max  \\\n",
       "0  2201847  319877         1051   56.30          1.0            1.0  NaN  NaN   \n",
       "1  2201845  319877         1002    1.28          1.0            1.0  NaN  NaN   \n",
       "2  2201846  319877         1004   19.00          1.0            1.0  NaN  NaN   \n",
       "3  2201844  319877         1007    1.98          1.0            1.0  NaN  NaN   \n",
       "4  2201852  319878         1091  188.00          1.0            1.0  NaN  NaN   \n",
       "\n",
       "   median footnote  min_year_acquired  \n",
       "0     NaN      NaN                NaN  \n",
       "1     NaN      NaN                NaN  \n",
       "2     NaN      NaN                NaN  \n",
       "3     NaN      NaN                NaN  \n",
       "4     NaN      NaN                NaN  "
      ]
     },
     "execution_count": 5,
     "metadata": {},
     "output_type": "execute_result"
    }
   ],
   "source": [
    "foundation_food_nutrient_2024 = pd.read_csv(BASE_DIR + '/' + FOUNDATION_FOOD_PATH + '/Apr_2024/food_nutrient.csv')\n",
    "foundation_food_nutrient_2024.head()"
   ]
  },
  {
   "cell_type": "code",
   "execution_count": 6,
   "metadata": {},
   "outputs": [
    {
     "data": {
      "text/html": [
       "<div>\n",
       "<style scoped>\n",
       "    .dataframe tbody tr th:only-of-type {\n",
       "        vertical-align: middle;\n",
       "    }\n",
       "\n",
       "    .dataframe tbody tr th {\n",
       "        vertical-align: top;\n",
       "    }\n",
       "\n",
       "    .dataframe thead th {\n",
       "        text-align: right;\n",
       "    }\n",
       "</style>\n",
       "<table border=\"1\" class=\"dataframe\">\n",
       "  <thead>\n",
       "    <tr style=\"text-align: right;\">\n",
       "      <th></th>\n",
       "      <th>id</th>\n",
       "      <th>name</th>\n",
       "      <th>unit_name</th>\n",
       "      <th>nutrient_nbr</th>\n",
       "      <th>rank</th>\n",
       "    </tr>\n",
       "  </thead>\n",
       "  <tbody>\n",
       "    <tr>\n",
       "      <th>0</th>\n",
       "      <td>2047</td>\n",
       "      <td>Energy (Atwater General Factors)</td>\n",
       "      <td>KCAL</td>\n",
       "      <td>957.0</td>\n",
       "      <td>280.0</td>\n",
       "    </tr>\n",
       "    <tr>\n",
       "      <th>1</th>\n",
       "      <td>2048</td>\n",
       "      <td>Energy (Atwater Specific Factors)</td>\n",
       "      <td>KCAL</td>\n",
       "      <td>958.0</td>\n",
       "      <td>290.0</td>\n",
       "    </tr>\n",
       "    <tr>\n",
       "      <th>2</th>\n",
       "      <td>1001</td>\n",
       "      <td>Solids</td>\n",
       "      <td>G</td>\n",
       "      <td>201.0</td>\n",
       "      <td>200.0</td>\n",
       "    </tr>\n",
       "    <tr>\n",
       "      <th>3</th>\n",
       "      <td>1002</td>\n",
       "      <td>Nitrogen</td>\n",
       "      <td>G</td>\n",
       "      <td>202.0</td>\n",
       "      <td>500.0</td>\n",
       "    </tr>\n",
       "    <tr>\n",
       "      <th>4</th>\n",
       "      <td>1003</td>\n",
       "      <td>Protein</td>\n",
       "      <td>G</td>\n",
       "      <td>203.0</td>\n",
       "      <td>600.0</td>\n",
       "    </tr>\n",
       "  </tbody>\n",
       "</table>\n",
       "</div>"
      ],
      "text/plain": [
       "     id                               name unit_name  nutrient_nbr   rank\n",
       "0  2047   Energy (Atwater General Factors)      KCAL         957.0  280.0\n",
       "1  2048  Energy (Atwater Specific Factors)      KCAL         958.0  290.0\n",
       "2  1001                             Solids         G         201.0  200.0\n",
       "3  1002                           Nitrogen         G         202.0  500.0\n",
       "4  1003                            Protein         G         203.0  600.0"
      ]
     },
     "execution_count": 6,
     "metadata": {},
     "output_type": "execute_result"
    }
   ],
   "source": [
    "foundation_nutrient_2024 = pd.read_csv(BASE_DIR + '/' + FOUNDATION_FOOD_PATH + '/Apr_2024/nutrient.csv')\n",
    "foundation_nutrient_2024.head()\n",
    "# foundation_nutrient_2024.shape\n",
    "# foundation_nutrient_2024.columns"
   ]
  },
  {
   "cell_type": "code",
   "execution_count": 7,
   "metadata": {},
   "outputs": [
    {
     "name": "stderr",
     "output_type": "stream",
     "text": [
      "C:\\Users\\palan\\AppData\\Local\\Temp\\ipykernel_2036\\4089652134.py:1: DtypeWarning: Columns (6) have mixed types. Specify dtype option on import or set low_memory=False.\n",
      "  branded_food_2024 = pd.read_csv(BASE_DIR + '/' + BRANDED_FOOD_PATH + '/Apr_2024/food.csv')\n"
     ]
    },
    {
     "data": {
      "text/html": [
       "<div>\n",
       "<style scoped>\n",
       "    .dataframe tbody tr th:only-of-type {\n",
       "        vertical-align: middle;\n",
       "    }\n",
       "\n",
       "    .dataframe tbody tr th {\n",
       "        vertical-align: top;\n",
       "    }\n",
       "\n",
       "    .dataframe thead th {\n",
       "        text-align: right;\n",
       "    }\n",
       "</style>\n",
       "<table border=\"1\" class=\"dataframe\">\n",
       "  <thead>\n",
       "    <tr style=\"text-align: right;\">\n",
       "      <th></th>\n",
       "      <th>fdc_id</th>\n",
       "      <th>data_type</th>\n",
       "      <th>description</th>\n",
       "      <th>food_category_id</th>\n",
       "      <th>publication_date</th>\n",
       "      <th>market_country</th>\n",
       "      <th>trade_channel</th>\n",
       "      <th>microbe_data</th>\n",
       "    </tr>\n",
       "  </thead>\n",
       "  <tbody>\n",
       "    <tr>\n",
       "      <th>0</th>\n",
       "      <td>1105904</td>\n",
       "      <td>branded_food</td>\n",
       "      <td>WESSON Vegetable Oil 1 GAL</td>\n",
       "      <td>NaN</td>\n",
       "      <td>2020-11-13</td>\n",
       "      <td>United States</td>\n",
       "      <td>NaN</td>\n",
       "      <td>[{\"min_value\":null,\"uom\":null,\"microbe_method\"...</td>\n",
       "    </tr>\n",
       "    <tr>\n",
       "      <th>1</th>\n",
       "      <td>1105905</td>\n",
       "      <td>branded_food</td>\n",
       "      <td>SWANSON BROTH BEEF</td>\n",
       "      <td>NaN</td>\n",
       "      <td>2020-11-13</td>\n",
       "      <td>United States</td>\n",
       "      <td>NaN</td>\n",
       "      <td>[{\"min_value\":null,\"uom\":null,\"microbe_method\"...</td>\n",
       "    </tr>\n",
       "    <tr>\n",
       "      <th>2</th>\n",
       "      <td>1105906</td>\n",
       "      <td>branded_food</td>\n",
       "      <td>CAMPBELL'S SLOW KETTLE SOUP CLAM CHOWDER</td>\n",
       "      <td>NaN</td>\n",
       "      <td>2020-11-13</td>\n",
       "      <td>United States</td>\n",
       "      <td>NaN</td>\n",
       "      <td>[{\"min_value\":null,\"uom\":null,\"microbe_method\"...</td>\n",
       "    </tr>\n",
       "    <tr>\n",
       "      <th>3</th>\n",
       "      <td>1105907</td>\n",
       "      <td>branded_food</td>\n",
       "      <td>CAMPBELL'S SLOW KETTLE SOUP CHEESE BROCCOLI</td>\n",
       "      <td>NaN</td>\n",
       "      <td>2020-11-13</td>\n",
       "      <td>United States</td>\n",
       "      <td>NaN</td>\n",
       "      <td>[{\"min_value\":null,\"uom\":null,\"microbe_method\"...</td>\n",
       "    </tr>\n",
       "    <tr>\n",
       "      <th>4</th>\n",
       "      <td>1105908</td>\n",
       "      <td>branded_food</td>\n",
       "      <td>SWANSON BROTH CHICKEN</td>\n",
       "      <td>NaN</td>\n",
       "      <td>2020-11-13</td>\n",
       "      <td>United States</td>\n",
       "      <td>NaN</td>\n",
       "      <td>[{\"min_value\":null,\"uom\":null,\"microbe_method\"...</td>\n",
       "    </tr>\n",
       "  </tbody>\n",
       "</table>\n",
       "</div>"
      ],
      "text/plain": [
       "    fdc_id     data_type                                  description  \\\n",
       "0  1105904  branded_food                   WESSON Vegetable Oil 1 GAL   \n",
       "1  1105905  branded_food                           SWANSON BROTH BEEF   \n",
       "2  1105906  branded_food     CAMPBELL'S SLOW KETTLE SOUP CLAM CHOWDER   \n",
       "3  1105907  branded_food  CAMPBELL'S SLOW KETTLE SOUP CHEESE BROCCOLI   \n",
       "4  1105908  branded_food                        SWANSON BROTH CHICKEN   \n",
       "\n",
       "   food_category_id publication_date market_country trade_channel  \\\n",
       "0               NaN       2020-11-13  United States           NaN   \n",
       "1               NaN       2020-11-13  United States           NaN   \n",
       "2               NaN       2020-11-13  United States           NaN   \n",
       "3               NaN       2020-11-13  United States           NaN   \n",
       "4               NaN       2020-11-13  United States           NaN   \n",
       "\n",
       "                                        microbe_data  \n",
       "0  [{\"min_value\":null,\"uom\":null,\"microbe_method\"...  \n",
       "1  [{\"min_value\":null,\"uom\":null,\"microbe_method\"...  \n",
       "2  [{\"min_value\":null,\"uom\":null,\"microbe_method\"...  \n",
       "3  [{\"min_value\":null,\"uom\":null,\"microbe_method\"...  \n",
       "4  [{\"min_value\":null,\"uom\":null,\"microbe_method\"...  "
      ]
     },
     "execution_count": 7,
     "metadata": {},
     "output_type": "execute_result"
    }
   ],
   "source": [
    "branded_food_2024 = pd.read_csv(BASE_DIR + '/' + BRANDED_FOOD_PATH + '/Apr_2024/food.csv')\n",
    "branded_food_2024.head()"
   ]
  },
  {
   "cell_type": "code",
   "execution_count": 8,
   "metadata": {},
   "outputs": [
    {
     "data": {
      "text/html": [
       "<div>\n",
       "<style scoped>\n",
       "    .dataframe tbody tr th:only-of-type {\n",
       "        vertical-align: middle;\n",
       "    }\n",
       "\n",
       "    .dataframe tbody tr th {\n",
       "        vertical-align: top;\n",
       "    }\n",
       "\n",
       "    .dataframe thead th {\n",
       "        text-align: right;\n",
       "    }\n",
       "</style>\n",
       "<table border=\"1\" class=\"dataframe\">\n",
       "  <thead>\n",
       "    <tr style=\"text-align: right;\">\n",
       "      <th></th>\n",
       "      <th>id</th>\n",
       "      <th>fdc_id</th>\n",
       "      <th>nutrient_id</th>\n",
       "      <th>amount</th>\n",
       "      <th>data_points</th>\n",
       "      <th>derivation_id</th>\n",
       "      <th>min</th>\n",
       "      <th>max</th>\n",
       "      <th>median</th>\n",
       "      <th>footnote</th>\n",
       "      <th>min_year_acquired</th>\n",
       "    </tr>\n",
       "  </thead>\n",
       "  <tbody>\n",
       "    <tr>\n",
       "      <th>0</th>\n",
       "      <td>13706927</td>\n",
       "      <td>1105904</td>\n",
       "      <td>1257</td>\n",
       "      <td>0.00</td>\n",
       "      <td>NaN</td>\n",
       "      <td>71.0</td>\n",
       "      <td>NaN</td>\n",
       "      <td>NaN</td>\n",
       "      <td>NaN</td>\n",
       "      <td>NaN</td>\n",
       "      <td>NaN</td>\n",
       "    </tr>\n",
       "    <tr>\n",
       "      <th>1</th>\n",
       "      <td>13706930</td>\n",
       "      <td>1105904</td>\n",
       "      <td>1293</td>\n",
       "      <td>53.33</td>\n",
       "      <td>NaN</td>\n",
       "      <td>71.0</td>\n",
       "      <td>NaN</td>\n",
       "      <td>NaN</td>\n",
       "      <td>NaN</td>\n",
       "      <td>NaN</td>\n",
       "      <td>NaN</td>\n",
       "    </tr>\n",
       "    <tr>\n",
       "      <th>2</th>\n",
       "      <td>13706926</td>\n",
       "      <td>1105904</td>\n",
       "      <td>1253</td>\n",
       "      <td>0.00</td>\n",
       "      <td>NaN</td>\n",
       "      <td>75.0</td>\n",
       "      <td>NaN</td>\n",
       "      <td>NaN</td>\n",
       "      <td>NaN</td>\n",
       "      <td>NaN</td>\n",
       "      <td>NaN</td>\n",
       "    </tr>\n",
       "    <tr>\n",
       "      <th>3</th>\n",
       "      <td>13706921</td>\n",
       "      <td>1105904</td>\n",
       "      <td>1092</td>\n",
       "      <td>0.00</td>\n",
       "      <td>NaN</td>\n",
       "      <td>75.0</td>\n",
       "      <td>NaN</td>\n",
       "      <td>NaN</td>\n",
       "      <td>NaN</td>\n",
       "      <td>NaN</td>\n",
       "      <td>NaN</td>\n",
       "    </tr>\n",
       "    <tr>\n",
       "      <th>4</th>\n",
       "      <td>13706916</td>\n",
       "      <td>1105904</td>\n",
       "      <td>1008</td>\n",
       "      <td>867.00</td>\n",
       "      <td>NaN</td>\n",
       "      <td>71.0</td>\n",
       "      <td>NaN</td>\n",
       "      <td>NaN</td>\n",
       "      <td>NaN</td>\n",
       "      <td>NaN</td>\n",
       "      <td>NaN</td>\n",
       "    </tr>\n",
       "  </tbody>\n",
       "</table>\n",
       "</div>"
      ],
      "text/plain": [
       "         id   fdc_id  nutrient_id  amount  data_points  derivation_id  min  \\\n",
       "0  13706927  1105904         1257    0.00          NaN           71.0  NaN   \n",
       "1  13706930  1105904         1293   53.33          NaN           71.0  NaN   \n",
       "2  13706926  1105904         1253    0.00          NaN           75.0  NaN   \n",
       "3  13706921  1105904         1092    0.00          NaN           75.0  NaN   \n",
       "4  13706916  1105904         1008  867.00          NaN           71.0  NaN   \n",
       "\n",
       "   max  median  footnote  min_year_acquired  \n",
       "0  NaN     NaN       NaN                NaN  \n",
       "1  NaN     NaN       NaN                NaN  \n",
       "2  NaN     NaN       NaN                NaN  \n",
       "3  NaN     NaN       NaN                NaN  \n",
       "4  NaN     NaN       NaN                NaN  "
      ]
     },
     "execution_count": 8,
     "metadata": {},
     "output_type": "execute_result"
    }
   ],
   "source": [
    "branded_food_nutrient_2024 = pd.read_csv(BASE_DIR + '/' + BRANDED_FOOD_PATH + '/Apr_2024/food_nutrient.csv')\n",
    "branded_food_nutrient_2024.head()"
   ]
  },
  {
   "cell_type": "code",
   "execution_count": 9,
   "metadata": {},
   "outputs": [
    {
     "data": {
      "text/plain": [
       "(477, 5)"
      ]
     },
     "execution_count": 9,
     "metadata": {},
     "output_type": "execute_result"
    }
   ],
   "source": [
    "branded_nutrient_2024 = pd.read_csv(BASE_DIR + '/' + BRANDED_FOOD_PATH + '/Apr_2024/nutrient.csv')\n",
    "branded_nutrient_2024.head()\n",
    "branded_nutrient_2024.shape"
   ]
  },
  {
   "cell_type": "code",
   "execution_count": 10,
   "metadata": {},
   "outputs": [],
   "source": [
    "def combine_all_years():\n",
    "    # Walk through each sub-directory and process the files\n",
    "    combined_data = pd.DataFrame()\n",
    "\n",
    "    # Traverse through folders, merging each year's data\n",
    "    for root, dirs, files in os.walk(BASE_DIR):\n",
    "        # Check if the current folder contains the necessary files\n",
    "        print(root, dirs, files)\n",
    "        if 'food.csv' in files and 'food_nutrient.csv' in files and 'nutrient.csv' in files:\n",
    "            # process food_df\n",
    "            food_df = pd.read_csv(os.path.join(root, 'food.csv'))\n",
    "            food_df = food_df[['fdc_id', 'description', 'publication_date']]\n",
    "            # process food_nutrients_df\n",
    "            food_nutrients_df = pd.read_csv(os.path.join(root, 'food_nutrient.csv'))\n",
    "            food_nutrients_df = food_nutrients_df[['fdc_id', 'nutrient_id', 'amount']]\n",
    "            # process nutrients_df\n",
    "            nutrient_df = pd.read_csv(os.path.join(root, 'nutrient.csv'))\n",
    "            nutrient_df = nutrient_df[['id', 'name', 'unit_name']]\n",
    "            nutrient_df = nutrient_df.rename(columns={'id': 'nutrient_id'})\n",
    "            \n",
    "            merged_food_nutrients = food_df.merge(food_nutrients_df, on='fdc_id', how='left')\n",
    "            merged_data = merged_food_nutrients.merge(nutrient_df, on='nutrient_id', how='left')\n",
    "            \n",
    "            combined_data = pd.concat([combined_data, merged_data], ignore_index=True)\n",
    "\n",
    "    # Save combined data to a single CSV file\n",
    "    combined_data.to_csv('data/combined_food_data.csv', index=False)\n",
    "    print(combined_data.size)\n",
    "    return combined_data"
   ]
  },
  {
   "cell_type": "code",
   "execution_count": 11,
   "metadata": {},
   "outputs": [
    {
     "name": "stdout",
     "output_type": "stream",
     "text": [
      "data/food_data ['branded_food', 'foundation_food'] []\n",
      "data/food_data\\branded_food ['Apr_2024'] []\n",
      "data/food_data\\branded_food\\Apr_2024 [] ['food.csv', 'food_nutrient.csv', 'nutrient.csv']\n"
     ]
    },
    {
     "name": "stderr",
     "output_type": "stream",
     "text": [
      "C:\\Users\\palan\\AppData\\Local\\Temp\\ipykernel_2036\\138902424.py:11: DtypeWarning: Columns (6) have mixed types. Specify dtype option on import or set low_memory=False.\n",
      "  food_df = pd.read_csv(os.path.join(root, 'food.csv'))\n"
     ]
    },
    {
     "name": "stdout",
     "output_type": "stream",
     "text": [
      "data/food_data\\foundation_food ['Apr_2024'] []\n",
      "data/food_data\\foundation_food\\Apr_2024 [] ['food.csv', 'food_nutrient.csv', 'nutrient.csv']\n"
     ]
    },
    {
     "name": "stderr",
     "output_type": "stream",
     "text": [
      "C:\\Users\\palan\\AppData\\Local\\Temp\\ipykernel_2036\\138902424.py:14: DtypeWarning: Columns (9) have mixed types. Specify dtype option on import or set low_memory=False.\n",
      "  food_nutrients_df = pd.read_csv(os.path.join(root, 'food_nutrient.csv'))\n"
     ]
    },
    {
     "name": "stdout",
     "output_type": "stream",
     "text": [
      "178919510\n"
     ]
    }
   ],
   "source": [
    "FOOD_DATA_PATH = 'data/combined_food_data.csv'\n",
    "if not os.path.exists(FOOD_DATA_PATH):\n",
    "    food_data_df = combine_all_years()\n",
    "else:\n",
    "    print('here')\n",
    "    food_data_df = pd.read_csv(FOOD_DATA_PATH)"
   ]
  },
  {
   "cell_type": "code",
   "execution_count": 12,
   "metadata": {},
   "outputs": [
    {
     "data": {
      "text/html": [
       "<div>\n",
       "<style scoped>\n",
       "    .dataframe tbody tr th:only-of-type {\n",
       "        vertical-align: middle;\n",
       "    }\n",
       "\n",
       "    .dataframe tbody tr th {\n",
       "        vertical-align: top;\n",
       "    }\n",
       "\n",
       "    .dataframe thead th {\n",
       "        text-align: right;\n",
       "    }\n",
       "</style>\n",
       "<table border=\"1\" class=\"dataframe\">\n",
       "  <thead>\n",
       "    <tr style=\"text-align: right;\">\n",
       "      <th></th>\n",
       "      <th>fdc_id</th>\n",
       "      <th>description</th>\n",
       "      <th>publication_date</th>\n",
       "      <th>nutrient_id</th>\n",
       "      <th>amount</th>\n",
       "      <th>name</th>\n",
       "      <th>unit_name</th>\n",
       "    </tr>\n",
       "  </thead>\n",
       "  <tbody>\n",
       "    <tr>\n",
       "      <th>0</th>\n",
       "      <td>1105904</td>\n",
       "      <td>WESSON Vegetable Oil 1 GAL</td>\n",
       "      <td>2020-11-13</td>\n",
       "      <td>1257.0</td>\n",
       "      <td>0.00</td>\n",
       "      <td>Fatty acids, total trans</td>\n",
       "      <td>G</td>\n",
       "    </tr>\n",
       "    <tr>\n",
       "      <th>1</th>\n",
       "      <td>1105904</td>\n",
       "      <td>WESSON Vegetable Oil 1 GAL</td>\n",
       "      <td>2020-11-13</td>\n",
       "      <td>1293.0</td>\n",
       "      <td>53.33</td>\n",
       "      <td>Fatty acids, total polyunsaturated</td>\n",
       "      <td>G</td>\n",
       "    </tr>\n",
       "    <tr>\n",
       "      <th>2</th>\n",
       "      <td>1105904</td>\n",
       "      <td>WESSON Vegetable Oil 1 GAL</td>\n",
       "      <td>2020-11-13</td>\n",
       "      <td>1253.0</td>\n",
       "      <td>0.00</td>\n",
       "      <td>Cholesterol</td>\n",
       "      <td>MG</td>\n",
       "    </tr>\n",
       "    <tr>\n",
       "      <th>3</th>\n",
       "      <td>1105904</td>\n",
       "      <td>WESSON Vegetable Oil 1 GAL</td>\n",
       "      <td>2020-11-13</td>\n",
       "      <td>1092.0</td>\n",
       "      <td>0.00</td>\n",
       "      <td>Potassium, K</td>\n",
       "      <td>MG</td>\n",
       "    </tr>\n",
       "    <tr>\n",
       "      <th>4</th>\n",
       "      <td>1105904</td>\n",
       "      <td>WESSON Vegetable Oil 1 GAL</td>\n",
       "      <td>2020-11-13</td>\n",
       "      <td>1008.0</td>\n",
       "      <td>867.00</td>\n",
       "      <td>Energy</td>\n",
       "      <td>KCAL</td>\n",
       "    </tr>\n",
       "  </tbody>\n",
       "</table>\n",
       "</div>"
      ],
      "text/plain": [
       "    fdc_id                 description publication_date  nutrient_id  amount  \\\n",
       "0  1105904  WESSON Vegetable Oil 1 GAL       2020-11-13       1257.0    0.00   \n",
       "1  1105904  WESSON Vegetable Oil 1 GAL       2020-11-13       1293.0   53.33   \n",
       "2  1105904  WESSON Vegetable Oil 1 GAL       2020-11-13       1253.0    0.00   \n",
       "3  1105904  WESSON Vegetable Oil 1 GAL       2020-11-13       1092.0    0.00   \n",
       "4  1105904  WESSON Vegetable Oil 1 GAL       2020-11-13       1008.0  867.00   \n",
       "\n",
       "                                 name unit_name  \n",
       "0            Fatty acids, total trans         G  \n",
       "1  Fatty acids, total polyunsaturated         G  \n",
       "2                         Cholesterol        MG  \n",
       "3                        Potassium, K        MG  \n",
       "4                              Energy      KCAL  "
      ]
     },
     "execution_count": 12,
     "metadata": {},
     "output_type": "execute_result"
    }
   ],
   "source": [
    "food_data_df.head()"
   ]
  },
  {
   "cell_type": "code",
   "execution_count": 13,
   "metadata": {},
   "outputs": [
    {
     "data": {
      "text/plain": [
       "Index(['fdc_id', 'description', 'publication_date', 'nutrient_id', 'amount',\n",
       "       'name', 'unit_name'],\n",
       "      dtype='object')"
      ]
     },
     "execution_count": 13,
     "metadata": {},
     "output_type": "execute_result"
    }
   ],
   "source": [
    "food_data_df.columns"
   ]
  },
  {
   "cell_type": "code",
   "execution_count": 14,
   "metadata": {},
   "outputs": [
    {
     "data": {
      "text/plain": [
       "Index(['fdc_id', 'food_name', 'amount', 'nutrient', 'unit_name'], dtype='object')"
      ]
     },
     "execution_count": 14,
     "metadata": {},
     "output_type": "execute_result"
    }
   ],
   "source": [
    "food_data_df = food_data_df.drop(columns=['publication_date', 'nutrient_id'])\n",
    "food_data_df = food_data_df.rename(columns={'name': 'nutrient', 'description': 'food_name'})\n",
    "food_data_df.columns"
   ]
  },
  {
   "cell_type": "code",
   "execution_count": 15,
   "metadata": {},
   "outputs": [
    {
     "data": {
      "text/plain": [
       "0           False\n",
       "1           False\n",
       "2           False\n",
       "3           False\n",
       "4           False\n",
       "            ...  \n",
       "25559925    False\n",
       "25559926    False\n",
       "25559927    False\n",
       "25559928    False\n",
       "25559929    False\n",
       "Length: 25559930, dtype: bool"
      ]
     },
     "execution_count": 15,
     "metadata": {},
     "output_type": "execute_result"
    }
   ],
   "source": [
    "duplicates = food_data_df.duplicated()\n",
    "duplicates"
   ]
  },
  {
   "cell_type": "code",
   "execution_count": 16,
   "metadata": {},
   "outputs": [
    {
     "data": {
      "text/plain": [
       "fdc_id\n",
       "2519201    6\n",
       "2512023    6\n",
       "2539821    6\n",
       "2558877    2\n",
       "2613984    2\n",
       "          ..\n",
       "2521600    1\n",
       "2521601    1\n",
       "2521602    1\n",
       "2521603    1\n",
       "2641427    1\n",
       "Name: count, Length: 968, dtype: int64"
      ]
     },
     "execution_count": 16,
     "metadata": {},
     "output_type": "execute_result"
    }
   ],
   "source": [
    "duplicates = food_data_df[duplicates]\n",
    "duplicates['fdc_id'].value_counts()"
   ]
  },
  {
   "cell_type": "code",
   "execution_count": 17,
   "metadata": {},
   "outputs": [],
   "source": [
    "food_data_df = food_data_df.drop_duplicates()"
   ]
  },
  {
   "cell_type": "code",
   "execution_count": 18,
   "metadata": {},
   "outputs": [
    {
     "data": {
      "text/plain": [
       "(25558906, 5)"
      ]
     },
     "execution_count": 18,
     "metadata": {},
     "output_type": "execute_result"
    }
   ],
   "source": [
    "food_data_df.shape"
   ]
  },
  {
   "cell_type": "code",
   "execution_count": 19,
   "metadata": {},
   "outputs": [
    {
     "data": {
      "text/plain": [
       "342899"
      ]
     },
     "execution_count": 19,
     "metadata": {},
     "output_type": "execute_result"
    }
   ],
   "source": [
    "food_data_df.isnull().sum().sum()"
   ]
  },
  {
   "cell_type": "code",
   "execution_count": null,
   "metadata": {},
   "outputs": [
    {
     "name": "stdout",
     "output_type": "stream",
     "text": [
      "Rows with missing values:\n",
      "           fdc_id                             food_name  amount nutrient  \\\n",
      "4011944    614198                              PALM 50l     NaN      NaN   \n",
      "4011991    614214           RODENBACH Vintage 75cl 2012     NaN      NaN   \n",
      "4011992    614216              RODENBACH Grand Cru 33cl     NaN      NaN   \n",
      "4012249    614274                             PALM 33cl     NaN      NaN   \n",
      "4012410    614316     STEENBRUGGE Blond 20l One way keg     NaN      NaN   \n",
      "...           ...                                   ...     ...      ...   \n",
      "25557986  2685813  tomato, puree, canned, no salt added     NaN      NaN   \n",
      "25557987  2685815  tomato, puree, canned, no salt added     NaN      NaN   \n",
      "25557988  2685817  tomato, puree, canned, no salt added     NaN      NaN   \n",
      "25557989  2685819     tomato, puree, canned, salt added     NaN      NaN   \n",
      "25557990  2685821  tomato, puree, canned, no salt added     NaN      NaN   \n",
      "\n",
      "         unit_name  \n",
      "4011944        NaN  \n",
      "4011991        NaN  \n",
      "4011992        NaN  \n",
      "4012249        NaN  \n",
      "4012410        NaN  \n",
      "...            ...  \n",
      "25557986       NaN  \n",
      "25557987       NaN  \n",
      "25557988       NaN  \n",
      "25557989       NaN  \n",
      "25557990       NaN  \n",
      "\n",
      "[114313 rows x 5 columns]\n"
     ]
    }
   ],
   "source": [
    "rows_with_missing = food_data_df[food_data_df.isnull().any(axis=1)]\n",
    "print(\"Rows with missing values:\")\n",
    "print(rows_with_missing)"
   ]
  },
  {
   "cell_type": "code",
   "execution_count": 21,
   "metadata": {},
   "outputs": [
    {
     "data": {
      "text/plain": [
       "(25444593, 5)"
      ]
     },
     "execution_count": 21,
     "metadata": {},
     "output_type": "execute_result"
    }
   ],
   "source": [
    "food_data_df = food_data_df.dropna()\n",
    "food_data_df.shape"
   ]
  },
  {
   "cell_type": "code",
   "execution_count": 22,
   "metadata": {},
   "outputs": [
    {
     "data": {
      "text/plain": [
       "nutrient\n",
       "Protein                        1844399\n",
       "Carbohydrate, by difference    1834459\n",
       "Sodium, Na                     1832291\n",
       "Energy                         1824058\n",
       "Total lipid (fat)              1820371\n",
       "                                ...   \n",
       "PUFA 20:3                            5\n",
       "Lignin                               4\n",
       "Ribose                               3\n",
       "Sugars, intrinsic                    1\n",
       "Beta-glucans                         1\n",
       "Name: count, Length: 254, dtype: int64"
      ]
     },
     "execution_count": 22,
     "metadata": {},
     "output_type": "execute_result"
    }
   ],
   "source": [
    "food_data_df['nutrient'].value_counts()"
   ]
  },
  {
   "cell_type": "code",
   "execution_count": 25,
   "metadata": {},
   "outputs": [],
   "source": [
    "# Database connection parameters\n",
    "username = os.getenv('POSTGRES_USERNAME')\n",
    "password = os.getenv('POSTGRES_PASSWORD')\n",
    "host = os.getenv('POSTGRES_HOST')\n",
    "port = int(os.getenv('POSTGRES_PORT'))\n",
    "database = os.getenv('POSTGRES_DATABASE')\n",
    "\n",
    "# Create a connection string\n",
    "engine = create_engine(f'postgresql+psycopg2://{username}:{password}@{host}:{port}/{database}')"
   ]
  },
  {
   "cell_type": "code",
   "execution_count": 26,
   "metadata": {},
   "outputs": [
    {
     "name": "stdout",
     "output_type": "stream",
     "text": [
      "Successfully saved 25 million records to 'food_nutrient' in PostgreSQL.\n"
     ]
    }
   ],
   "source": [
    "# Save DataFrame to a PostgreSQL table\n",
    "table_name = 'food_nutrient'\n",
    "# food_data_df.to_sql(table_name, engine, if_exists='append', index=False)\n",
    "# Save DataFrame to PostgreSQL in chunks\n",
    "chunk_size = 10000  # Adjust based on your system's capacity\n",
    "\n",
    "try:\n",
    "    for i in range(0, len(food_data_df), chunk_size):\n",
    "        chunk = food_data_df[i:i + chunk_size]\n",
    "        chunk.to_sql(table_name, engine, if_exists='append', index=False)\n",
    "    print(f\"Successfully saved 25 million records to '{table_name}' in PostgreSQL.\")\n",
    "except Exception as e:\n",
    "    print(\"Error while saving DataFrame in chunks:\", e)"
   ]
  }
 ],
 "metadata": {
  "kernelspec": {
   "display_name": "venv",
   "language": "python",
   "name": "python3"
  },
  "language_info": {
   "codemirror_mode": {
    "name": "ipython",
    "version": 3
   },
   "file_extension": ".py",
   "mimetype": "text/x-python",
   "name": "python",
   "nbconvert_exporter": "python",
   "pygments_lexer": "ipython3",
   "version": "3.11.9"
  }
 },
 "nbformat": 4,
 "nbformat_minor": 2
}
