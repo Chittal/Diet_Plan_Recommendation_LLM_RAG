{
 "cells": [
  {
   "cell_type": "markdown",
   "metadata": {},
   "source": [
    "# FOOD DATA CENTRAL"
   ]
  },
  {
   "cell_type": "markdown",
   "metadata": {},
   "source": [
    "This file is to create and populate postgres DB with food data central data. Download food data central data from https://fdc.nal.usda.gov/download-datasets.html. Then extract those files and store in below structure.\n",
    "data\n",
    "\\-food_data\n",
    "\\\\-foundation_food\n",
    "\\\\\\-Apr_2024\n",
    "\\\\\\\\-food.csv\n",
    "\\\\\\\\-food_nutrient.csv\n",
    "\\\\\\\\-nutrient.csv\n",
    "\\\\-branded_food\n",
    "\\\\\\-Apr_2024\n",
    "\\\\\\\\-food.csv\n",
    "\\\\\\\\-food_nutrient.csv\n",
    "\\\\\\\\-nutrient.csv"
   ]
  },
  {
   "cell_type": "code",
   "execution_count": 2,
   "metadata": {},
   "outputs": [
    {
     "name": "stdout",
     "output_type": "stream",
     "text": [
      "Requirement already satisfied: pandas in c:\\users\\palan\\downloads\\diet_plan_recom_chatbot\\venv\\lib\\site-packages (2.2.3)\n",
      "Requirement already satisfied: numpy>=1.23.2 in c:\\users\\palan\\downloads\\diet_plan_recom_chatbot\\venv\\lib\\site-packages (from pandas) (1.26.4)\n",
      "Requirement already satisfied: python-dateutil>=2.8.2 in c:\\users\\palan\\downloads\\diet_plan_recom_chatbot\\venv\\lib\\site-packages (from pandas) (2.9.0.post0)\n",
      "Requirement already satisfied: pytz>=2020.1 in c:\\users\\palan\\downloads\\diet_plan_recom_chatbot\\venv\\lib\\site-packages (from pandas) (2024.2)\n",
      "Requirement already satisfied: tzdata>=2022.7 in c:\\users\\palan\\downloads\\diet_plan_recom_chatbot\\venv\\lib\\site-packages (from pandas) (2024.2)\n",
      "Requirement already satisfied: six>=1.5 in c:\\users\\palan\\downloads\\diet_plan_recom_chatbot\\venv\\lib\\site-packages (from python-dateutil>=2.8.2->pandas) (1.16.0)\n",
      "Note: you may need to restart the kernel to use updated packages.\n"
     ]
    },
    {
     "name": "stderr",
     "output_type": "stream",
     "text": [
      "\n",
      "[notice] A new release of pip is available: 24.0 -> 24.3.1\n",
      "[notice] To update, run: python.exe -m pip install --upgrade pip\n"
     ]
    },
    {
     "name": "stdout",
     "output_type": "stream",
     "text": [
      "Requirement already satisfied: psycopg2-binary in c:\\users\\palan\\downloads\\diet_plan_recom_chatbot\\venv\\lib\\site-packages (2.9.10)\n",
      "Requirement already satisfied: sqlalchemy in c:\\users\\palan\\downloads\\diet_plan_recom_chatbot\\venv\\lib\\site-packages (2.0.35)\n",
      "Requirement already satisfied: typing-extensions>=4.6.0 in c:\\users\\palan\\downloads\\diet_plan_recom_chatbot\\venv\\lib\\site-packages (from sqlalchemy) (4.12.2)\n",
      "Requirement already satisfied: greenlet!=0.4.17 in c:\\users\\palan\\downloads\\diet_plan_recom_chatbot\\venv\\lib\\site-packages (from sqlalchemy) (3.1.1)\n",
      "Note: you may need to restart the kernel to use updated packages.\n"
     ]
    },
    {
     "name": "stderr",
     "output_type": "stream",
     "text": [
      "\n",
      "[notice] A new release of pip is available: 24.0 -> 24.3.1\n",
      "[notice] To update, run: python.exe -m pip install --upgrade pip\n"
     ]
    }
   ],
   "source": [
    "%pip install pandas\n",
    "%pip install psycopg2-binary sqlalchemy"
   ]
  },
  {
   "cell_type": "code",
   "execution_count": 3,
   "metadata": {},
   "outputs": [
    {
     "data": {
      "text/plain": [
       "True"
      ]
     },
     "execution_count": 3,
     "metadata": {},
     "output_type": "execute_result"
    }
   ],
   "source": [
    "import pandas as pd\n",
    "import os\n",
    "\n",
    "from sqlalchemy import create_engine\n",
    "from dotenv import load_dotenv\n",
    "\n",
    "load_dotenv()"
   ]
  },
  {
   "cell_type": "code",
   "execution_count": 4,
   "metadata": {},
   "outputs": [],
   "source": [
    "BASE_DIR = 'data/food_data'\n",
    "FOUNDATION_FOOD_PATH = 'foundation_food'\n",
    "BRANDED_FOOD_PATH =  'branded_food'"
   ]
  },
  {
   "cell_type": "code",
   "execution_count": 5,
   "metadata": {},
   "outputs": [
    {
     "data": {
      "text/html": [
       "<div>\n",
       "<style scoped>\n",
       "    .dataframe tbody tr th:only-of-type {\n",
       "        vertical-align: middle;\n",
       "    }\n",
       "\n",
       "    .dataframe tbody tr th {\n",
       "        vertical-align: top;\n",
       "    }\n",
       "\n",
       "    .dataframe thead th {\n",
       "        text-align: right;\n",
       "    }\n",
       "</style>\n",
       "<table border=\"1\" class=\"dataframe\">\n",
       "  <thead>\n",
       "    <tr style=\"text-align: right;\">\n",
       "      <th></th>\n",
       "      <th>fdc_id</th>\n",
       "      <th>data_type</th>\n",
       "      <th>description</th>\n",
       "      <th>food_category_id</th>\n",
       "      <th>publication_date</th>\n",
       "    </tr>\n",
       "  </thead>\n",
       "  <tbody>\n",
       "    <tr>\n",
       "      <th>0</th>\n",
       "      <td>319874</td>\n",
       "      <td>sample_food</td>\n",
       "      <td>HUMMUS, SABRA CLASSIC</td>\n",
       "      <td>16.0</td>\n",
       "      <td>2019-04-01</td>\n",
       "    </tr>\n",
       "    <tr>\n",
       "      <th>1</th>\n",
       "      <td>319875</td>\n",
       "      <td>market_acquisition</td>\n",
       "      <td>HUMMUS, SABRA CLASSIC</td>\n",
       "      <td>16.0</td>\n",
       "      <td>2019-04-01</td>\n",
       "    </tr>\n",
       "    <tr>\n",
       "      <th>2</th>\n",
       "      <td>319876</td>\n",
       "      <td>market_acquisition</td>\n",
       "      <td>HUMMUS, SABRA CLASSIC</td>\n",
       "      <td>16.0</td>\n",
       "      <td>2019-04-01</td>\n",
       "    </tr>\n",
       "    <tr>\n",
       "      <th>3</th>\n",
       "      <td>319877</td>\n",
       "      <td>sub_sample_food</td>\n",
       "      <td>Hummus</td>\n",
       "      <td>16.0</td>\n",
       "      <td>2019-04-01</td>\n",
       "    </tr>\n",
       "    <tr>\n",
       "      <th>4</th>\n",
       "      <td>319878</td>\n",
       "      <td>sub_sample_food</td>\n",
       "      <td>Hummus</td>\n",
       "      <td>16.0</td>\n",
       "      <td>2019-04-01</td>\n",
       "    </tr>\n",
       "  </tbody>\n",
       "</table>\n",
       "</div>"
      ],
      "text/plain": [
       "   fdc_id           data_type            description  food_category_id  \\\n",
       "0  319874         sample_food  HUMMUS, SABRA CLASSIC              16.0   \n",
       "1  319875  market_acquisition  HUMMUS, SABRA CLASSIC              16.0   \n",
       "2  319876  market_acquisition  HUMMUS, SABRA CLASSIC              16.0   \n",
       "3  319877     sub_sample_food                 Hummus              16.0   \n",
       "4  319878     sub_sample_food                 Hummus              16.0   \n",
       "\n",
       "  publication_date  \n",
       "0       2019-04-01  \n",
       "1       2019-04-01  \n",
       "2       2019-04-01  \n",
       "3       2019-04-01  \n",
       "4       2019-04-01  "
      ]
     },
     "execution_count": 5,
     "metadata": {},
     "output_type": "execute_result"
    }
   ],
   "source": [
    "foundation_food_2024 = pd.read_csv(BASE_DIR + '/' + FOUNDATION_FOOD_PATH + '/Apr_2024/food.csv')\n",
    "foundation_food_2024.head()"
   ]
  },
  {
   "cell_type": "code",
   "execution_count": 6,
   "metadata": {},
   "outputs": [
    {
     "name": "stderr",
     "output_type": "stream",
     "text": [
      "C:\\Users\\palan\\AppData\\Local\\Temp\\ipykernel_14188\\1328151036.py:1: DtypeWarning: Columns (9) have mixed types. Specify dtype option on import or set low_memory=False.\n",
      "  foundation_food_nutrient_2024 = pd.read_csv(BASE_DIR + '/' + FOUNDATION_FOOD_PATH + '/Apr_2024/food_nutrient.csv')\n"
     ]
    },
    {
     "data": {
      "text/html": [
       "<div>\n",
       "<style scoped>\n",
       "    .dataframe tbody tr th:only-of-type {\n",
       "        vertical-align: middle;\n",
       "    }\n",
       "\n",
       "    .dataframe tbody tr th {\n",
       "        vertical-align: top;\n",
       "    }\n",
       "\n",
       "    .dataframe thead th {\n",
       "        text-align: right;\n",
       "    }\n",
       "</style>\n",
       "<table border=\"1\" class=\"dataframe\">\n",
       "  <thead>\n",
       "    <tr style=\"text-align: right;\">\n",
       "      <th></th>\n",
       "      <th>id</th>\n",
       "      <th>fdc_id</th>\n",
       "      <th>nutrient_id</th>\n",
       "      <th>amount</th>\n",
       "      <th>data_points</th>\n",
       "      <th>derivation_id</th>\n",
       "      <th>min</th>\n",
       "      <th>max</th>\n",
       "      <th>median</th>\n",
       "      <th>footnote</th>\n",
       "      <th>min_year_acquired</th>\n",
       "    </tr>\n",
       "  </thead>\n",
       "  <tbody>\n",
       "    <tr>\n",
       "      <th>0</th>\n",
       "      <td>2201847</td>\n",
       "      <td>319877</td>\n",
       "      <td>1051</td>\n",
       "      <td>56.30</td>\n",
       "      <td>1.0</td>\n",
       "      <td>1.0</td>\n",
       "      <td>NaN</td>\n",
       "      <td>NaN</td>\n",
       "      <td>NaN</td>\n",
       "      <td>NaN</td>\n",
       "      <td>NaN</td>\n",
       "    </tr>\n",
       "    <tr>\n",
       "      <th>1</th>\n",
       "      <td>2201845</td>\n",
       "      <td>319877</td>\n",
       "      <td>1002</td>\n",
       "      <td>1.28</td>\n",
       "      <td>1.0</td>\n",
       "      <td>1.0</td>\n",
       "      <td>NaN</td>\n",
       "      <td>NaN</td>\n",
       "      <td>NaN</td>\n",
       "      <td>NaN</td>\n",
       "      <td>NaN</td>\n",
       "    </tr>\n",
       "    <tr>\n",
       "      <th>2</th>\n",
       "      <td>2201846</td>\n",
       "      <td>319877</td>\n",
       "      <td>1004</td>\n",
       "      <td>19.00</td>\n",
       "      <td>1.0</td>\n",
       "      <td>1.0</td>\n",
       "      <td>NaN</td>\n",
       "      <td>NaN</td>\n",
       "      <td>NaN</td>\n",
       "      <td>NaN</td>\n",
       "      <td>NaN</td>\n",
       "    </tr>\n",
       "    <tr>\n",
       "      <th>3</th>\n",
       "      <td>2201844</td>\n",
       "      <td>319877</td>\n",
       "      <td>1007</td>\n",
       "      <td>1.98</td>\n",
       "      <td>1.0</td>\n",
       "      <td>1.0</td>\n",
       "      <td>NaN</td>\n",
       "      <td>NaN</td>\n",
       "      <td>NaN</td>\n",
       "      <td>NaN</td>\n",
       "      <td>NaN</td>\n",
       "    </tr>\n",
       "    <tr>\n",
       "      <th>4</th>\n",
       "      <td>2201852</td>\n",
       "      <td>319878</td>\n",
       "      <td>1091</td>\n",
       "      <td>188.00</td>\n",
       "      <td>1.0</td>\n",
       "      <td>1.0</td>\n",
       "      <td>NaN</td>\n",
       "      <td>NaN</td>\n",
       "      <td>NaN</td>\n",
       "      <td>NaN</td>\n",
       "      <td>NaN</td>\n",
       "    </tr>\n",
       "  </tbody>\n",
       "</table>\n",
       "</div>"
      ],
      "text/plain": [
       "        id  fdc_id  nutrient_id  amount  data_points  derivation_id  min  max  \\\n",
       "0  2201847  319877         1051   56.30          1.0            1.0  NaN  NaN   \n",
       "1  2201845  319877         1002    1.28          1.0            1.0  NaN  NaN   \n",
       "2  2201846  319877         1004   19.00          1.0            1.0  NaN  NaN   \n",
       "3  2201844  319877         1007    1.98          1.0            1.0  NaN  NaN   \n",
       "4  2201852  319878         1091  188.00          1.0            1.0  NaN  NaN   \n",
       "\n",
       "   median footnote  min_year_acquired  \n",
       "0     NaN      NaN                NaN  \n",
       "1     NaN      NaN                NaN  \n",
       "2     NaN      NaN                NaN  \n",
       "3     NaN      NaN                NaN  \n",
       "4     NaN      NaN                NaN  "
      ]
     },
     "execution_count": 6,
     "metadata": {},
     "output_type": "execute_result"
    }
   ],
   "source": [
    "foundation_food_nutrient_2024 = pd.read_csv(BASE_DIR + '/' + FOUNDATION_FOOD_PATH + '/Apr_2024/food_nutrient.csv')\n",
    "foundation_food_nutrient_2024.head()"
   ]
  },
  {
   "cell_type": "code",
   "execution_count": 7,
   "metadata": {},
   "outputs": [
    {
     "data": {
      "text/html": [
       "<div>\n",
       "<style scoped>\n",
       "    .dataframe tbody tr th:only-of-type {\n",
       "        vertical-align: middle;\n",
       "    }\n",
       "\n",
       "    .dataframe tbody tr th {\n",
       "        vertical-align: top;\n",
       "    }\n",
       "\n",
       "    .dataframe thead th {\n",
       "        text-align: right;\n",
       "    }\n",
       "</style>\n",
       "<table border=\"1\" class=\"dataframe\">\n",
       "  <thead>\n",
       "    <tr style=\"text-align: right;\">\n",
       "      <th></th>\n",
       "      <th>id</th>\n",
       "      <th>name</th>\n",
       "      <th>unit_name</th>\n",
       "      <th>nutrient_nbr</th>\n",
       "      <th>rank</th>\n",
       "    </tr>\n",
       "  </thead>\n",
       "  <tbody>\n",
       "    <tr>\n",
       "      <th>0</th>\n",
       "      <td>2047</td>\n",
       "      <td>Energy (Atwater General Factors)</td>\n",
       "      <td>KCAL</td>\n",
       "      <td>957.0</td>\n",
       "      <td>280.0</td>\n",
       "    </tr>\n",
       "    <tr>\n",
       "      <th>1</th>\n",
       "      <td>2048</td>\n",
       "      <td>Energy (Atwater Specific Factors)</td>\n",
       "      <td>KCAL</td>\n",
       "      <td>958.0</td>\n",
       "      <td>290.0</td>\n",
       "    </tr>\n",
       "    <tr>\n",
       "      <th>2</th>\n",
       "      <td>1001</td>\n",
       "      <td>Solids</td>\n",
       "      <td>G</td>\n",
       "      <td>201.0</td>\n",
       "      <td>200.0</td>\n",
       "    </tr>\n",
       "    <tr>\n",
       "      <th>3</th>\n",
       "      <td>1002</td>\n",
       "      <td>Nitrogen</td>\n",
       "      <td>G</td>\n",
       "      <td>202.0</td>\n",
       "      <td>500.0</td>\n",
       "    </tr>\n",
       "    <tr>\n",
       "      <th>4</th>\n",
       "      <td>1003</td>\n",
       "      <td>Protein</td>\n",
       "      <td>G</td>\n",
       "      <td>203.0</td>\n",
       "      <td>600.0</td>\n",
       "    </tr>\n",
       "  </tbody>\n",
       "</table>\n",
       "</div>"
      ],
      "text/plain": [
       "     id                               name unit_name  nutrient_nbr   rank\n",
       "0  2047   Energy (Atwater General Factors)      KCAL         957.0  280.0\n",
       "1  2048  Energy (Atwater Specific Factors)      KCAL         958.0  290.0\n",
       "2  1001                             Solids         G         201.0  200.0\n",
       "3  1002                           Nitrogen         G         202.0  500.0\n",
       "4  1003                            Protein         G         203.0  600.0"
      ]
     },
     "execution_count": 7,
     "metadata": {},
     "output_type": "execute_result"
    }
   ],
   "source": [
    "foundation_nutrient_2024 = pd.read_csv(BASE_DIR + '/' + FOUNDATION_FOOD_PATH + '/Apr_2024/nutrient.csv')\n",
    "foundation_nutrient_2024.head()\n",
    "# foundation_nutrient_2024.shape\n",
    "# foundation_nutrient_2024.columns"
   ]
  },
  {
   "cell_type": "code",
   "execution_count": 8,
   "metadata": {},
   "outputs": [
    {
     "name": "stderr",
     "output_type": "stream",
     "text": [
      "C:\\Users\\palan\\AppData\\Local\\Temp\\ipykernel_14188\\4089652134.py:1: DtypeWarning: Columns (6) have mixed types. Specify dtype option on import or set low_memory=False.\n",
      "  branded_food_2024 = pd.read_csv(BASE_DIR + '/' + BRANDED_FOOD_PATH + '/Apr_2024/food.csv')\n"
     ]
    },
    {
     "data": {
      "text/html": [
       "<div>\n",
       "<style scoped>\n",
       "    .dataframe tbody tr th:only-of-type {\n",
       "        vertical-align: middle;\n",
       "    }\n",
       "\n",
       "    .dataframe tbody tr th {\n",
       "        vertical-align: top;\n",
       "    }\n",
       "\n",
       "    .dataframe thead th {\n",
       "        text-align: right;\n",
       "    }\n",
       "</style>\n",
       "<table border=\"1\" class=\"dataframe\">\n",
       "  <thead>\n",
       "    <tr style=\"text-align: right;\">\n",
       "      <th></th>\n",
       "      <th>fdc_id</th>\n",
       "      <th>data_type</th>\n",
       "      <th>description</th>\n",
       "      <th>food_category_id</th>\n",
       "      <th>publication_date</th>\n",
       "      <th>market_country</th>\n",
       "      <th>trade_channel</th>\n",
       "      <th>microbe_data</th>\n",
       "    </tr>\n",
       "  </thead>\n",
       "  <tbody>\n",
       "    <tr>\n",
       "      <th>0</th>\n",
       "      <td>1105904</td>\n",
       "      <td>branded_food</td>\n",
       "      <td>WESSON Vegetable Oil 1 GAL</td>\n",
       "      <td>NaN</td>\n",
       "      <td>2020-11-13</td>\n",
       "      <td>United States</td>\n",
       "      <td>NaN</td>\n",
       "      <td>[{\"min_value\":null,\"uom\":null,\"microbe_method\"...</td>\n",
       "    </tr>\n",
       "    <tr>\n",
       "      <th>1</th>\n",
       "      <td>1105905</td>\n",
       "      <td>branded_food</td>\n",
       "      <td>SWANSON BROTH BEEF</td>\n",
       "      <td>NaN</td>\n",
       "      <td>2020-11-13</td>\n",
       "      <td>United States</td>\n",
       "      <td>NaN</td>\n",
       "      <td>[{\"min_value\":null,\"uom\":null,\"microbe_method\"...</td>\n",
       "    </tr>\n",
       "    <tr>\n",
       "      <th>2</th>\n",
       "      <td>1105906</td>\n",
       "      <td>branded_food</td>\n",
       "      <td>CAMPBELL'S SLOW KETTLE SOUP CLAM CHOWDER</td>\n",
       "      <td>NaN</td>\n",
       "      <td>2020-11-13</td>\n",
       "      <td>United States</td>\n",
       "      <td>NaN</td>\n",
       "      <td>[{\"min_value\":null,\"uom\":null,\"microbe_method\"...</td>\n",
       "    </tr>\n",
       "    <tr>\n",
       "      <th>3</th>\n",
       "      <td>1105907</td>\n",
       "      <td>branded_food</td>\n",
       "      <td>CAMPBELL'S SLOW KETTLE SOUP CHEESE BROCCOLI</td>\n",
       "      <td>NaN</td>\n",
       "      <td>2020-11-13</td>\n",
       "      <td>United States</td>\n",
       "      <td>NaN</td>\n",
       "      <td>[{\"min_value\":null,\"uom\":null,\"microbe_method\"...</td>\n",
       "    </tr>\n",
       "    <tr>\n",
       "      <th>4</th>\n",
       "      <td>1105908</td>\n",
       "      <td>branded_food</td>\n",
       "      <td>SWANSON BROTH CHICKEN</td>\n",
       "      <td>NaN</td>\n",
       "      <td>2020-11-13</td>\n",
       "      <td>United States</td>\n",
       "      <td>NaN</td>\n",
       "      <td>[{\"min_value\":null,\"uom\":null,\"microbe_method\"...</td>\n",
       "    </tr>\n",
       "  </tbody>\n",
       "</table>\n",
       "</div>"
      ],
      "text/plain": [
       "    fdc_id     data_type                                  description  \\\n",
       "0  1105904  branded_food                   WESSON Vegetable Oil 1 GAL   \n",
       "1  1105905  branded_food                           SWANSON BROTH BEEF   \n",
       "2  1105906  branded_food     CAMPBELL'S SLOW KETTLE SOUP CLAM CHOWDER   \n",
       "3  1105907  branded_food  CAMPBELL'S SLOW KETTLE SOUP CHEESE BROCCOLI   \n",
       "4  1105908  branded_food                        SWANSON BROTH CHICKEN   \n",
       "\n",
       "   food_category_id publication_date market_country trade_channel  \\\n",
       "0               NaN       2020-11-13  United States           NaN   \n",
       "1               NaN       2020-11-13  United States           NaN   \n",
       "2               NaN       2020-11-13  United States           NaN   \n",
       "3               NaN       2020-11-13  United States           NaN   \n",
       "4               NaN       2020-11-13  United States           NaN   \n",
       "\n",
       "                                        microbe_data  \n",
       "0  [{\"min_value\":null,\"uom\":null,\"microbe_method\"...  \n",
       "1  [{\"min_value\":null,\"uom\":null,\"microbe_method\"...  \n",
       "2  [{\"min_value\":null,\"uom\":null,\"microbe_method\"...  \n",
       "3  [{\"min_value\":null,\"uom\":null,\"microbe_method\"...  \n",
       "4  [{\"min_value\":null,\"uom\":null,\"microbe_method\"...  "
      ]
     },
     "execution_count": 8,
     "metadata": {},
     "output_type": "execute_result"
    }
   ],
   "source": [
    "branded_food_2024 = pd.read_csv(BASE_DIR + '/' + BRANDED_FOOD_PATH + '/Apr_2024/food.csv')\n",
    "branded_food_2024.head()"
   ]
  },
  {
   "cell_type": "code",
   "execution_count": 9,
   "metadata": {},
   "outputs": [
    {
     "data": {
      "text/html": [
       "<div>\n",
       "<style scoped>\n",
       "    .dataframe tbody tr th:only-of-type {\n",
       "        vertical-align: middle;\n",
       "    }\n",
       "\n",
       "    .dataframe tbody tr th {\n",
       "        vertical-align: top;\n",
       "    }\n",
       "\n",
       "    .dataframe thead th {\n",
       "        text-align: right;\n",
       "    }\n",
       "</style>\n",
       "<table border=\"1\" class=\"dataframe\">\n",
       "  <thead>\n",
       "    <tr style=\"text-align: right;\">\n",
       "      <th></th>\n",
       "      <th>id</th>\n",
       "      <th>fdc_id</th>\n",
       "      <th>nutrient_id</th>\n",
       "      <th>amount</th>\n",
       "      <th>data_points</th>\n",
       "      <th>derivation_id</th>\n",
       "      <th>min</th>\n",
       "      <th>max</th>\n",
       "      <th>median</th>\n",
       "      <th>footnote</th>\n",
       "      <th>min_year_acquired</th>\n",
       "    </tr>\n",
       "  </thead>\n",
       "  <tbody>\n",
       "    <tr>\n",
       "      <th>0</th>\n",
       "      <td>13706927</td>\n",
       "      <td>1105904</td>\n",
       "      <td>1257</td>\n",
       "      <td>0.00</td>\n",
       "      <td>NaN</td>\n",
       "      <td>71.0</td>\n",
       "      <td>NaN</td>\n",
       "      <td>NaN</td>\n",
       "      <td>NaN</td>\n",
       "      <td>NaN</td>\n",
       "      <td>NaN</td>\n",
       "    </tr>\n",
       "    <tr>\n",
       "      <th>1</th>\n",
       "      <td>13706930</td>\n",
       "      <td>1105904</td>\n",
       "      <td>1293</td>\n",
       "      <td>53.33</td>\n",
       "      <td>NaN</td>\n",
       "      <td>71.0</td>\n",
       "      <td>NaN</td>\n",
       "      <td>NaN</td>\n",
       "      <td>NaN</td>\n",
       "      <td>NaN</td>\n",
       "      <td>NaN</td>\n",
       "    </tr>\n",
       "    <tr>\n",
       "      <th>2</th>\n",
       "      <td>13706926</td>\n",
       "      <td>1105904</td>\n",
       "      <td>1253</td>\n",
       "      <td>0.00</td>\n",
       "      <td>NaN</td>\n",
       "      <td>75.0</td>\n",
       "      <td>NaN</td>\n",
       "      <td>NaN</td>\n",
       "      <td>NaN</td>\n",
       "      <td>NaN</td>\n",
       "      <td>NaN</td>\n",
       "    </tr>\n",
       "    <tr>\n",
       "      <th>3</th>\n",
       "      <td>13706921</td>\n",
       "      <td>1105904</td>\n",
       "      <td>1092</td>\n",
       "      <td>0.00</td>\n",
       "      <td>NaN</td>\n",
       "      <td>75.0</td>\n",
       "      <td>NaN</td>\n",
       "      <td>NaN</td>\n",
       "      <td>NaN</td>\n",
       "      <td>NaN</td>\n",
       "      <td>NaN</td>\n",
       "    </tr>\n",
       "    <tr>\n",
       "      <th>4</th>\n",
       "      <td>13706916</td>\n",
       "      <td>1105904</td>\n",
       "      <td>1008</td>\n",
       "      <td>867.00</td>\n",
       "      <td>NaN</td>\n",
       "      <td>71.0</td>\n",
       "      <td>NaN</td>\n",
       "      <td>NaN</td>\n",
       "      <td>NaN</td>\n",
       "      <td>NaN</td>\n",
       "      <td>NaN</td>\n",
       "    </tr>\n",
       "  </tbody>\n",
       "</table>\n",
       "</div>"
      ],
      "text/plain": [
       "         id   fdc_id  nutrient_id  amount  data_points  derivation_id  min  \\\n",
       "0  13706927  1105904         1257    0.00          NaN           71.0  NaN   \n",
       "1  13706930  1105904         1293   53.33          NaN           71.0  NaN   \n",
       "2  13706926  1105904         1253    0.00          NaN           75.0  NaN   \n",
       "3  13706921  1105904         1092    0.00          NaN           75.0  NaN   \n",
       "4  13706916  1105904         1008  867.00          NaN           71.0  NaN   \n",
       "\n",
       "   max  median  footnote  min_year_acquired  \n",
       "0  NaN     NaN       NaN                NaN  \n",
       "1  NaN     NaN       NaN                NaN  \n",
       "2  NaN     NaN       NaN                NaN  \n",
       "3  NaN     NaN       NaN                NaN  \n",
       "4  NaN     NaN       NaN                NaN  "
      ]
     },
     "execution_count": 9,
     "metadata": {},
     "output_type": "execute_result"
    }
   ],
   "source": [
    "branded_food_nutrient_2024 = pd.read_csv(BASE_DIR + '/' + BRANDED_FOOD_PATH + '/Apr_2024/food_nutrient.csv')\n",
    "branded_food_nutrient_2024.head()"
   ]
  },
  {
   "cell_type": "code",
   "execution_count": 10,
   "metadata": {},
   "outputs": [
    {
     "data": {
      "text/plain": [
       "(477, 5)"
      ]
     },
     "execution_count": 10,
     "metadata": {},
     "output_type": "execute_result"
    }
   ],
   "source": [
    "branded_nutrient_2024 = pd.read_csv(BASE_DIR + '/' + BRANDED_FOOD_PATH + '/Apr_2024/nutrient.csv')\n",
    "branded_nutrient_2024.head()\n",
    "branded_nutrient_2024.shape"
   ]
  },
  {
   "cell_type": "code",
   "execution_count": 38,
   "metadata": {},
   "outputs": [],
   "source": [
    "def combine_all_years(PATH, file_path):\n",
    "    # Walk through each sub-directory and process the files\n",
    "    combined_data = pd.DataFrame()\n",
    "\n",
    "    # Traverse through folders, merging each year's data\n",
    "    for root, dirs, files in os.walk(PATH):\n",
    "        # Check if the current folder contains the necessary files\n",
    "        print(root, dirs, files)\n",
    "        if 'food.csv' in files and 'food_nutrient.csv' in files and 'nutrient.csv' in files:\n",
    "            # process food_df\n",
    "            food_df = pd.read_csv(os.path.join(root, 'food.csv'))\n",
    "            food_df = food_df[['fdc_id', 'description', 'publication_date']]\n",
    "            food_df = food_df.drop_duplicates(subset='description', keep='first')\n",
    "            # process food_nutrients_df\n",
    "            food_nutrients_df = pd.read_csv(os.path.join(root, 'food_nutrient.csv'))\n",
    "            food_nutrients_df = food_nutrients_df[['fdc_id', 'nutrient_id', 'amount']]\n",
    "            # process nutrients_df\n",
    "            nutrient_df = pd.read_csv(os.path.join(root, 'nutrient.csv'))\n",
    "            nutrient_df = nutrient_df[['id', 'name', 'unit_name']]\n",
    "            nutrient_df = nutrient_df.rename(columns={'id': 'nutrient_id'})\n",
    "            \n",
    "            merged_food_nutrients = food_df.merge(food_nutrients_df, on='fdc_id', how='left')\n",
    "            merged_data = merged_food_nutrients.merge(nutrient_df, on='nutrient_id', how='left')\n",
    "            \n",
    "            combined_data = pd.concat([combined_data, merged_data], ignore_index=True)\n",
    "\n",
    "    # Save combined data to a single CSV file\n",
    "    combined_data.to_csv(file_path, index=False)\n",
    "    print(combined_data.size)\n",
    "    return combined_data"
   ]
  },
  {
   "cell_type": "code",
   "execution_count": 12,
   "metadata": {},
   "outputs": [],
   "source": [
    "# FOOD_DATA_PATH = 'data/combined_food_data.csv'\n",
    "# if not os.path.exists(FOOD_DATA_PATH):\n",
    "#     food_data_df = combine_all_years()\n",
    "# else:\n",
    "#     print('here')\n",
    "#     food_data_df = pd.read_csv(FOOD_DATA_PATH)"
   ]
  },
  {
   "cell_type": "code",
   "execution_count": 39,
   "metadata": {},
   "outputs": [
    {
     "name": "stdout",
     "output_type": "stream",
     "text": [
      "data/food_data/foundation_food ['Apr_2023', 'Apr_2024', 'Oct_2023', 'Oct_2024'] []\n",
      "data/food_data/foundation_food\\Apr_2023 [] ['food.csv', 'food_nutrient.csv', 'nutrient.csv']\n",
      "data/food_data/foundation_food\\Apr_2024 [] ['food.csv', 'food_nutrient.csv', 'nutrient.csv']\n",
      "data/food_data/foundation_food\\Oct_2023 [] ['food.csv', 'food_nutrient.csv', 'nutrient.csv']\n"
     ]
    },
    {
     "name": "stderr",
     "output_type": "stream",
     "text": [
      "C:\\Users\\palan\\AppData\\Local\\Temp\\ipykernel_14188\\2626590551.py:15: DtypeWarning: Columns (9) have mixed types. Specify dtype option on import or set low_memory=False.\n",
      "  food_nutrients_df = pd.read_csv(os.path.join(root, 'food_nutrient.csv'))\n",
      "C:\\Users\\palan\\AppData\\Local\\Temp\\ipykernel_14188\\2626590551.py:15: DtypeWarning: Columns (9) have mixed types. Specify dtype option on import or set low_memory=False.\n",
      "  food_nutrients_df = pd.read_csv(os.path.join(root, 'food_nutrient.csv'))\n",
      "C:\\Users\\palan\\AppData\\Local\\Temp\\ipykernel_14188\\2626590551.py:15: DtypeWarning: Columns (9,10) have mixed types. Specify dtype option on import or set low_memory=False.\n",
      "  food_nutrients_df = pd.read_csv(os.path.join(root, 'food_nutrient.csv'))\n",
      "C:\\Users\\palan\\AppData\\Local\\Temp\\ipykernel_14188\\2626590551.py:15: DtypeWarning: Columns (9) have mixed types. Specify dtype option on import or set low_memory=False.\n",
      "  food_nutrients_df = pd.read_csv(os.path.join(root, 'food_nutrient.csv'))\n"
     ]
    },
    {
     "name": "stdout",
     "output_type": "stream",
     "text": [
      "data/food_data/foundation_food\\Oct_2024 [] ['food.csv', 'food_nutrient.csv', 'nutrient.csv']\n",
      "1891862\n"
     ]
    }
   ],
   "source": [
    "file_path = 'data/foundation_food_data.csv'\n",
    "if not os.path.exists(file_path):\n",
    "    foundation_df = combine_all_years(BASE_DIR + '/' + FOUNDATION_FOOD_PATH, file_path)\n",
    "else:\n",
    "    foundation_df = pd.read_csv(file_path)"
   ]
  },
  {
   "cell_type": "code",
   "execution_count": 40,
   "metadata": {},
   "outputs": [
    {
     "name": "stdout",
     "output_type": "stream",
     "text": [
      "Index(['fdc_id', 'description', 'publication_date', 'nutrient_id', 'amount',\n",
      "       'name', 'unit_name'],\n",
      "      dtype='object')\n"
     ]
    },
    {
     "data": {
      "text/html": [
       "<div>\n",
       "<style scoped>\n",
       "    .dataframe tbody tr th:only-of-type {\n",
       "        vertical-align: middle;\n",
       "    }\n",
       "\n",
       "    .dataframe tbody tr th {\n",
       "        vertical-align: top;\n",
       "    }\n",
       "\n",
       "    .dataframe thead th {\n",
       "        text-align: right;\n",
       "    }\n",
       "</style>\n",
       "<table border=\"1\" class=\"dataframe\">\n",
       "  <thead>\n",
       "    <tr style=\"text-align: right;\">\n",
       "      <th></th>\n",
       "      <th>fdc_id</th>\n",
       "      <th>description</th>\n",
       "      <th>publication_date</th>\n",
       "      <th>nutrient_id</th>\n",
       "      <th>amount</th>\n",
       "      <th>name</th>\n",
       "      <th>unit_name</th>\n",
       "    </tr>\n",
       "  </thead>\n",
       "  <tbody>\n",
       "    <tr>\n",
       "      <th>0</th>\n",
       "      <td>319874</td>\n",
       "      <td>HUMMUS, SABRA CLASSIC</td>\n",
       "      <td>2019-04-01</td>\n",
       "      <td>NaN</td>\n",
       "      <td>NaN</td>\n",
       "      <td>NaN</td>\n",
       "      <td>NaN</td>\n",
       "    </tr>\n",
       "    <tr>\n",
       "      <th>1</th>\n",
       "      <td>319877</td>\n",
       "      <td>Hummus</td>\n",
       "      <td>2019-04-01</td>\n",
       "      <td>1051.0</td>\n",
       "      <td>56.30</td>\n",
       "      <td>Water</td>\n",
       "      <td>G</td>\n",
       "    </tr>\n",
       "    <tr>\n",
       "      <th>2</th>\n",
       "      <td>319877</td>\n",
       "      <td>Hummus</td>\n",
       "      <td>2019-04-01</td>\n",
       "      <td>1002.0</td>\n",
       "      <td>1.28</td>\n",
       "      <td>Nitrogen</td>\n",
       "      <td>G</td>\n",
       "    </tr>\n",
       "    <tr>\n",
       "      <th>3</th>\n",
       "      <td>319877</td>\n",
       "      <td>Hummus</td>\n",
       "      <td>2019-04-01</td>\n",
       "      <td>1004.0</td>\n",
       "      <td>19.00</td>\n",
       "      <td>Total lipid (fat)</td>\n",
       "      <td>G</td>\n",
       "    </tr>\n",
       "    <tr>\n",
       "      <th>4</th>\n",
       "      <td>319877</td>\n",
       "      <td>Hummus</td>\n",
       "      <td>2019-04-01</td>\n",
       "      <td>1007.0</td>\n",
       "      <td>1.98</td>\n",
       "      <td>Ash</td>\n",
       "      <td>G</td>\n",
       "    </tr>\n",
       "  </tbody>\n",
       "</table>\n",
       "</div>"
      ],
      "text/plain": [
       "   fdc_id            description publication_date  nutrient_id  amount  \\\n",
       "0  319874  HUMMUS, SABRA CLASSIC       2019-04-01          NaN     NaN   \n",
       "1  319877                 Hummus       2019-04-01       1051.0   56.30   \n",
       "2  319877                 Hummus       2019-04-01       1002.0    1.28   \n",
       "3  319877                 Hummus       2019-04-01       1004.0   19.00   \n",
       "4  319877                 Hummus       2019-04-01       1007.0    1.98   \n",
       "\n",
       "                name unit_name  \n",
       "0                NaN       NaN  \n",
       "1              Water         G  \n",
       "2           Nitrogen         G  \n",
       "3  Total lipid (fat)         G  \n",
       "4                Ash         G  "
      ]
     },
     "execution_count": 40,
     "metadata": {},
     "output_type": "execute_result"
    }
   ],
   "source": [
    "print(foundation_df.columns)\n",
    "foundation_df.head()"
   ]
  },
  {
   "cell_type": "code",
   "execution_count": 41,
   "metadata": {},
   "outputs": [
    {
     "data": {
      "text/plain": [
       "Index(['fdc_id', 'food_name', 'amount', 'nutrient', 'unit_name'], dtype='object')"
      ]
     },
     "execution_count": 41,
     "metadata": {},
     "output_type": "execute_result"
    }
   ],
   "source": [
    "foundation_df = foundation_df.drop(columns=['publication_date', 'nutrient_id'])\n",
    "foundation_df = foundation_df.rename(columns={'name': 'nutrient', 'description': 'food_name'})\n",
    "foundation_df.columns"
   ]
  },
  {
   "cell_type": "code",
   "execution_count": 42,
   "metadata": {},
   "outputs": [
    {
     "data": {
      "text/plain": [
       "0         False\n",
       "1         False\n",
       "2         False\n",
       "3         False\n",
       "4         False\n",
       "          ...  \n",
       "270261    False\n",
       "270262    False\n",
       "270263    False\n",
       "270264    False\n",
       "270265    False\n",
       "Length: 270266, dtype: bool"
      ]
     },
     "execution_count": 42,
     "metadata": {},
     "output_type": "execute_result"
    }
   ],
   "source": [
    "duplicates = foundation_df.duplicated()\n",
    "duplicates"
   ]
  },
  {
   "cell_type": "code",
   "execution_count": 43,
   "metadata": {},
   "outputs": [
    {
     "data": {
      "text/plain": [
       "fdc_id\n",
       "322892     471\n",
       "322559     471\n",
       "322228     471\n",
       "1750337    471\n",
       "321359     471\n",
       "          ... \n",
       "2684464      1\n",
       "2684544      1\n",
       "2684528      1\n",
       "2684512      1\n",
       "2685820      1\n",
       "Name: count, Length: 11664, dtype: int64"
      ]
     },
     "execution_count": 43,
     "metadata": {},
     "output_type": "execute_result"
    }
   ],
   "source": [
    "duplicates = foundation_df[duplicates]\n",
    "duplicates['fdc_id'].value_counts()"
   ]
  },
  {
   "cell_type": "code",
   "execution_count": 44,
   "metadata": {},
   "outputs": [],
   "source": [
    "foundation_df = foundation_df.drop_duplicates()"
   ]
  },
  {
   "cell_type": "code",
   "execution_count": 45,
   "metadata": {},
   "outputs": [
    {
     "data": {
      "text/plain": [
       "(68597, 5)"
      ]
     },
     "execution_count": 45,
     "metadata": {},
     "output_type": "execute_result"
    }
   ],
   "source": [
    "foundation_df.shape"
   ]
  },
  {
   "cell_type": "code",
   "execution_count": 46,
   "metadata": {},
   "outputs": [
    {
     "data": {
      "text/plain": [
       "14155"
      ]
     },
     "execution_count": 46,
     "metadata": {},
     "output_type": "execute_result"
    }
   ],
   "source": [
    "foundation_df.isnull().sum().sum()"
   ]
  },
  {
   "cell_type": "code",
   "execution_count": 47,
   "metadata": {},
   "outputs": [
    {
     "name": "stdout",
     "output_type": "stream",
     "text": [
      "Rows with missing values:\n",
      "         fdc_id                                          food_name  amount  \\\n",
      "0        319874                              HUMMUS, SABRA CLASSIC     NaN   \n",
      "5        319894                                      HUMMUS, OTHER     NaN   \n",
      "185      319958                              HUMMUS, TRIBE CLASSIC     NaN   \n",
      "360      320025                                MILK, 2% (WAVE 22E)     NaN   \n",
      "371      320353  Beef, Eye of Round roast/steak, lean only, raw...     NaN   \n",
      "...         ...                                                ...     ...   \n",
      "270261  2711193                 Asparagus, green, whole spear, raw     NaN   \n",
      "270262  2711225           Mango, Ataulfo, peeled, pit removed, raw     NaN   \n",
      "270263  2711241  Pear, Anjou, green, with skin, seeded, core re...     NaN   \n",
      "270264  2711257  Corn, sweet, yellow and white kernels, husked,...     NaN   \n",
      "270265  2711273                Plum, black, with skin, pitted, raw     NaN   \n",
      "\n",
      "       nutrient unit_name  \n",
      "0           NaN       NaN  \n",
      "5           NaN       NaN  \n",
      "185         NaN       NaN  \n",
      "360         NaN       NaN  \n",
      "371         NaN       NaN  \n",
      "...         ...       ...  \n",
      "270261      NaN       NaN  \n",
      "270262      NaN       NaN  \n",
      "270263      NaN       NaN  \n",
      "270264      NaN       NaN  \n",
      "270265      NaN       NaN  \n",
      "\n",
      "[4719 rows x 5 columns]\n"
     ]
    }
   ],
   "source": [
    "rows_with_missing = foundation_df[foundation_df.isnull().any(axis=1)]\n",
    "print(\"Rows with missing values:\")\n",
    "print(rows_with_missing)"
   ]
  },
  {
   "cell_type": "code",
   "execution_count": 48,
   "metadata": {},
   "outputs": [
    {
     "data": {
      "text/plain": [
       "(63878, 5)"
      ]
     },
     "execution_count": 48,
     "metadata": {},
     "output_type": "execute_result"
    }
   ],
   "source": [
    "foundation_df = foundation_df.dropna()\n",
    "foundation_df.shape"
   ]
  },
  {
   "cell_type": "code",
   "execution_count": 49,
   "metadata": {},
   "outputs": [
    {
     "data": {
      "text/plain": [
       "nutrient\n",
       "Water                1939\n",
       "Total lipid (fat)    1929\n",
       "Copper, Cu           1719\n",
       "Magnesium, Mg        1719\n",
       "Phosphorus, P        1718\n",
       "                     ... \n",
       "Specific Gravity        6\n",
       "Stigmastadiene          4\n",
       "Carotene, gamma         4\n",
       "PUFA 20:3               4\n",
       "Pyruvic acid            4\n",
       "Name: count, Length: 223, dtype: int64"
      ]
     },
     "execution_count": 49,
     "metadata": {},
     "output_type": "execute_result"
    }
   ],
   "source": [
    "foundation_df['nutrient'].value_counts()"
   ]
  },
  {
   "cell_type": "code",
   "execution_count": 50,
   "metadata": {},
   "outputs": [
    {
     "data": {
      "text/plain": [
       "Index(['fdc_id', 'food_name', 'amount', 'nutrient', 'unit_name'], dtype='object')"
      ]
     },
     "execution_count": 50,
     "metadata": {},
     "output_type": "execute_result"
    }
   ],
   "source": [
    "foundation_df.columns"
   ]
  },
  {
   "cell_type": "code",
   "execution_count": 51,
   "metadata": {},
   "outputs": [
    {
     "name": "stdout",
     "output_type": "stream",
     "text": [
      "         fdc_id                 food_name    amount           nutrient  \\\n",
      "1        319877                    Hummus   56.3000              Water   \n",
      "2        319877                    Hummus    1.2800           Nitrogen   \n",
      "3        319877                    Hummus   19.0000  Total lipid (fat)   \n",
      "4        319877                    Hummus    1.9800                Ash   \n",
      "6        319906        Hummus - NFY12140O    0.0100           SFA 14:0   \n",
      "...         ...                       ...       ...                ...   \n",
      "270243  2710843  Plantains, overripe, raw    0.1028         Copper, Cu   \n",
      "270244  2710843  Plantains, overripe, raw    0.3148           Iron, Fe   \n",
      "270245  2710843  Plantains, overripe, raw  408.2000       Potassium, K   \n",
      "270246  2710843  Plantains, overripe, raw    0.1492           Zinc, Zn   \n",
      "270247  2710843  Plantains, overripe, raw    9.5480            Glucose   \n",
      "\n",
      "       unit_name  \n",
      "1              G  \n",
      "2              G  \n",
      "3              G  \n",
      "4              G  \n",
      "6              G  \n",
      "...          ...  \n",
      "270243        MG  \n",
      "270244        MG  \n",
      "270245        MG  \n",
      "270246        MG  \n",
      "270247         G  \n",
      "\n",
      "[60866 rows x 5 columns]\n"
     ]
    }
   ],
   "source": [
    "duplicate_entries = foundation_df[foundation_df.duplicated(subset='food_name', keep=False)]\n",
    "print(duplicate_entries)"
   ]
  },
  {
   "cell_type": "code",
   "execution_count": 23,
   "metadata": {},
   "outputs": [
    {
     "name": "stdout",
     "output_type": "stream",
     "text": [
      "data/food_data/branded_food ['Apr_2024'] []\n",
      "data/food_data/branded_food\\Apr_2024 [] ['food.csv', 'food_nutrient.csv', 'nutrient.csv']\n"
     ]
    },
    {
     "name": "stderr",
     "output_type": "stream",
     "text": [
      "C:\\Users\\palan\\AppData\\Local\\Temp\\ipykernel_23260\\3454897950.py:11: DtypeWarning: Columns (6) have mixed types. Specify dtype option on import or set low_memory=False.\n",
      "  food_df = pd.read_csv(os.path.join(root, 'food.csv'))\n"
     ]
    },
    {
     "name": "stdout",
     "output_type": "stream",
     "text": [
      "177835203\n"
     ]
    }
   ],
   "source": [
    "file_path = 'data/branded_food_data.csv'\n",
    "if not os.path.exists(file_path):\n",
    "    branded_df = combine_all_years(BASE_DIR + '/' + BRANDED_FOOD_PATH, file_path)\n",
    "else:\n",
    "    branded_df = pd.read_csv(file_path)"
   ]
  },
  {
   "cell_type": "code",
   "execution_count": 24,
   "metadata": {},
   "outputs": [
    {
     "name": "stdout",
     "output_type": "stream",
     "text": [
      "Index(['fdc_id', 'description', 'publication_date', 'nutrient_id', 'amount',\n",
      "       'name', 'unit_name'],\n",
      "      dtype='object')\n"
     ]
    },
    {
     "data": {
      "text/html": [
       "<div>\n",
       "<style scoped>\n",
       "    .dataframe tbody tr th:only-of-type {\n",
       "        vertical-align: middle;\n",
       "    }\n",
       "\n",
       "    .dataframe tbody tr th {\n",
       "        vertical-align: top;\n",
       "    }\n",
       "\n",
       "    .dataframe thead th {\n",
       "        text-align: right;\n",
       "    }\n",
       "</style>\n",
       "<table border=\"1\" class=\"dataframe\">\n",
       "  <thead>\n",
       "    <tr style=\"text-align: right;\">\n",
       "      <th></th>\n",
       "      <th>fdc_id</th>\n",
       "      <th>description</th>\n",
       "      <th>publication_date</th>\n",
       "      <th>nutrient_id</th>\n",
       "      <th>amount</th>\n",
       "      <th>name</th>\n",
       "      <th>unit_name</th>\n",
       "    </tr>\n",
       "  </thead>\n",
       "  <tbody>\n",
       "    <tr>\n",
       "      <th>0</th>\n",
       "      <td>1105904</td>\n",
       "      <td>WESSON Vegetable Oil 1 GAL</td>\n",
       "      <td>2020-11-13</td>\n",
       "      <td>1257.0</td>\n",
       "      <td>0.00</td>\n",
       "      <td>Fatty acids, total trans</td>\n",
       "      <td>G</td>\n",
       "    </tr>\n",
       "    <tr>\n",
       "      <th>1</th>\n",
       "      <td>1105904</td>\n",
       "      <td>WESSON Vegetable Oil 1 GAL</td>\n",
       "      <td>2020-11-13</td>\n",
       "      <td>1293.0</td>\n",
       "      <td>53.33</td>\n",
       "      <td>Fatty acids, total polyunsaturated</td>\n",
       "      <td>G</td>\n",
       "    </tr>\n",
       "    <tr>\n",
       "      <th>2</th>\n",
       "      <td>1105904</td>\n",
       "      <td>WESSON Vegetable Oil 1 GAL</td>\n",
       "      <td>2020-11-13</td>\n",
       "      <td>1253.0</td>\n",
       "      <td>0.00</td>\n",
       "      <td>Cholesterol</td>\n",
       "      <td>MG</td>\n",
       "    </tr>\n",
       "    <tr>\n",
       "      <th>3</th>\n",
       "      <td>1105904</td>\n",
       "      <td>WESSON Vegetable Oil 1 GAL</td>\n",
       "      <td>2020-11-13</td>\n",
       "      <td>1092.0</td>\n",
       "      <td>0.00</td>\n",
       "      <td>Potassium, K</td>\n",
       "      <td>MG</td>\n",
       "    </tr>\n",
       "    <tr>\n",
       "      <th>4</th>\n",
       "      <td>1105904</td>\n",
       "      <td>WESSON Vegetable Oil 1 GAL</td>\n",
       "      <td>2020-11-13</td>\n",
       "      <td>1008.0</td>\n",
       "      <td>867.00</td>\n",
       "      <td>Energy</td>\n",
       "      <td>KCAL</td>\n",
       "    </tr>\n",
       "  </tbody>\n",
       "</table>\n",
       "</div>"
      ],
      "text/plain": [
       "    fdc_id                 description publication_date  nutrient_id  amount  \\\n",
       "0  1105904  WESSON Vegetable Oil 1 GAL       2020-11-13       1257.0    0.00   \n",
       "1  1105904  WESSON Vegetable Oil 1 GAL       2020-11-13       1293.0   53.33   \n",
       "2  1105904  WESSON Vegetable Oil 1 GAL       2020-11-13       1253.0    0.00   \n",
       "3  1105904  WESSON Vegetable Oil 1 GAL       2020-11-13       1092.0    0.00   \n",
       "4  1105904  WESSON Vegetable Oil 1 GAL       2020-11-13       1008.0  867.00   \n",
       "\n",
       "                                 name unit_name  \n",
       "0            Fatty acids, total trans         G  \n",
       "1  Fatty acids, total polyunsaturated         G  \n",
       "2                         Cholesterol        MG  \n",
       "3                        Potassium, K        MG  \n",
       "4                              Energy      KCAL  "
      ]
     },
     "execution_count": 24,
     "metadata": {},
     "output_type": "execute_result"
    }
   ],
   "source": [
    "print(branded_df.columns)\n",
    "branded_df.head()"
   ]
  },
  {
   "cell_type": "code",
   "execution_count": 25,
   "metadata": {},
   "outputs": [
    {
     "data": {
      "text/plain": [
       "Index(['fdc_id', 'food_name', 'amount', 'nutrient', 'unit_name'], dtype='object')"
      ]
     },
     "execution_count": 25,
     "metadata": {},
     "output_type": "execute_result"
    }
   ],
   "source": [
    "branded_df = branded_df.drop(columns=['publication_date', 'nutrient_id'])\n",
    "branded_df = branded_df.rename(columns={'name': 'nutrient', 'description': 'food_name'})\n",
    "branded_df.columns"
   ]
  },
  {
   "cell_type": "code",
   "execution_count": 26,
   "metadata": {},
   "outputs": [
    {
     "data": {
      "text/plain": [
       "0           False\n",
       "1           False\n",
       "2           False\n",
       "3           False\n",
       "4           False\n",
       "            ...  \n",
       "25405024    False\n",
       "25405025    False\n",
       "25405026    False\n",
       "25405027    False\n",
       "25405028    False\n",
       "Length: 25405029, dtype: bool"
      ]
     },
     "execution_count": 26,
     "metadata": {},
     "output_type": "execute_result"
    }
   ],
   "source": [
    "duplicates = branded_df.duplicated()\n",
    "duplicates"
   ]
  },
  {
   "cell_type": "code",
   "execution_count": 27,
   "metadata": {},
   "outputs": [
    {
     "data": {
      "text/plain": [
       "fdc_id\n",
       "2519201    6\n",
       "2512023    6\n",
       "2539821    6\n",
       "2558877    2\n",
       "2613984    2\n",
       "          ..\n",
       "2521600    1\n",
       "2521601    1\n",
       "2521602    1\n",
       "2521603    1\n",
       "2641427    1\n",
       "Name: count, Length: 968, dtype: int64"
      ]
     },
     "execution_count": 27,
     "metadata": {},
     "output_type": "execute_result"
    }
   ],
   "source": [
    "duplicates = branded_df[duplicates]\n",
    "duplicates['fdc_id'].value_counts()"
   ]
  },
  {
   "cell_type": "code",
   "execution_count": 28,
   "metadata": {},
   "outputs": [
    {
     "data": {
      "text/plain": [
       "(25404005, 5)"
      ]
     },
     "execution_count": 28,
     "metadata": {},
     "output_type": "execute_result"
    }
   ],
   "source": [
    "branded_df = branded_df.drop_duplicates()\n",
    "branded_df.shape"
   ]
  },
  {
   "cell_type": "code",
   "execution_count": 29,
   "metadata": {},
   "outputs": [
    {
     "data": {
      "text/plain": [
       "311559"
      ]
     },
     "execution_count": 29,
     "metadata": {},
     "output_type": "execute_result"
    }
   ],
   "source": [
    "branded_df.isnull().sum().sum()"
   ]
  },
  {
   "cell_type": "code",
   "execution_count": 30,
   "metadata": {},
   "outputs": [
    {
     "name": "stdout",
     "output_type": "stream",
     "text": [
      "Rows with missing values:\n",
      "           fdc_id                                          food_name  amount  \\\n",
      "4011944    614198                                           PALM 50l     NaN   \n",
      "4011991    614214                        RODENBACH Vintage 75cl 2012     NaN   \n",
      "4011992    614216                           RODENBACH Grand Cru 33cl     NaN   \n",
      "4012249    614274                                          PALM 33cl     NaN   \n",
      "4012410    614316                  STEENBRUGGE Blond 20l One way keg     NaN   \n",
      "...           ...                                                ...     ...   \n",
      "22180831  2457573  Zee Zees Soft Baked Bar, Blueberry Lemon, WG I...     NaN   \n",
      "23016338  2511822  Zee Zees Applesauce Cup, Cinnamon, Unsweetened...     NaN   \n",
      "23016454  2511830                   Peterson Farms Treats Applesauce     NaN   \n",
      "23016641  2511841             C/E Pork Undrained Sloppy Joe 6/5# 30#     NaN   \n",
      "23016896  2511856                  Long Life Vegetable Oil 128 ounce     NaN   \n",
      "\n",
      "         nutrient unit_name  \n",
      "4011944       NaN       NaN  \n",
      "4011991       NaN       NaN  \n",
      "4011992       NaN       NaN  \n",
      "4012249       NaN       NaN  \n",
      "4012410       NaN       NaN  \n",
      "...           ...       ...  \n",
      "22180831      NaN       NaN  \n",
      "23016338      NaN       NaN  \n",
      "23016454      NaN       NaN  \n",
      "23016641      NaN       NaN  \n",
      "23016896      NaN       NaN  \n",
      "\n",
      "[103861 rows x 5 columns]\n"
     ]
    }
   ],
   "source": [
    "rows_with_missing = branded_df[branded_df.isnull().any(axis=1)]\n",
    "print(\"Rows with missing values:\")\n",
    "print(rows_with_missing)"
   ]
  },
  {
   "cell_type": "code",
   "execution_count": 31,
   "metadata": {},
   "outputs": [
    {
     "data": {
      "text/plain": [
       "(25300144, 5)"
      ]
     },
     "execution_count": 31,
     "metadata": {},
     "output_type": "execute_result"
    }
   ],
   "source": [
    "branded_df = branded_df.dropna()\n",
    "branded_df.shape"
   ]
  },
  {
   "cell_type": "code",
   "execution_count": 32,
   "metadata": {},
   "outputs": [
    {
     "data": {
      "text/plain": [
       "nutrient\n",
       "Protein                        1843076\n",
       "Carbohydrate, by difference    1834149\n",
       "Sodium, Na                     1829185\n",
       "Energy                         1823788\n",
       "Total lipid (fat)              1816154\n",
       "                                ...   \n",
       "Lignin                               4\n",
       "Ribose                               3\n",
       "SFA 22:0                             2\n",
       "Sugars, intrinsic                    1\n",
       "Beta-glucans                         1\n",
       "Name: count, Length: 108, dtype: int64"
      ]
     },
     "execution_count": 32,
     "metadata": {},
     "output_type": "execute_result"
    }
   ],
   "source": [
    "branded_df['nutrient'].value_counts()"
   ]
  },
  {
   "cell_type": "code",
   "execution_count": 52,
   "metadata": {},
   "outputs": [],
   "source": [
    "# Database connection parameters\n",
    "username = os.getenv('POSTGRES_USERNAME')\n",
    "password = os.getenv('POSTGRES_PASSWORD')\n",
    "host = os.getenv('POSTGRES_HOST')\n",
    "port = int(os.getenv('POSTGRES_PORT'))\n",
    "database = os.getenv('POSTGRES_DATABASE')\n",
    "\n",
    "# Create a connection string\n",
    "engine = create_engine(f'postgresql+psycopg2://{username}:{password}@{host}:{port}/{database}')"
   ]
  },
  {
   "cell_type": "code",
   "execution_count": 54,
   "metadata": {},
   "outputs": [],
   "source": [
    "def save_to_database(df, table_name):\n",
    "    # Save DataFrame to a PostgreSQL table\n",
    "    # food_data_df.to_sql(table_name, engine, if_exists='append', index=False)\n",
    "    # Save DataFrame to PostgreSQL in chunks\n",
    "    chunk_size = 10000  # Adjust based on your system's capacity\n",
    "\n",
    "    try:\n",
    "        for i in range(0, len(df), chunk_size):\n",
    "            chunk = df[i:i + chunk_size]\n",
    "            chunk.to_sql(table_name, engine, if_exists='append', index=False)\n",
    "        print(f\"Successfully saved '{str(len(df))}' million records to '{table_name}' in PostgreSQL.\")\n",
    "    except Exception as e:\n",
    "        print(\"Error while saving DataFrame in chunks:\", e)"
   ]
  },
  {
   "cell_type": "code",
   "execution_count": 55,
   "metadata": {},
   "outputs": [
    {
     "name": "stdout",
     "output_type": "stream",
     "text": [
      "Successfully saved '63878' million records to 'foundation_food_nutrient' in PostgreSQL.\n"
     ]
    }
   ],
   "source": [
    "save_to_database(foundation_df, 'foundation_food_nutrient')"
   ]
  },
  {
   "cell_type": "code",
   "execution_count": 36,
   "metadata": {},
   "outputs": [
    {
     "name": "stdout",
     "output_type": "stream",
     "text": [
      "Successfully saved 25 million records to 'branded_food_nutrient' in PostgreSQL.\n"
     ]
    }
   ],
   "source": [
    "save_to_database(branded_df, 'branded_food_nutrient')"
   ]
  }
 ],
 "metadata": {
  "kernelspec": {
   "display_name": "venv",
   "language": "python",
   "name": "python3"
  },
  "language_info": {
   "codemirror_mode": {
    "name": "ipython",
    "version": 3
   },
   "file_extension": ".py",
   "mimetype": "text/x-python",
   "name": "python",
   "nbconvert_exporter": "python",
   "pygments_lexer": "ipython3",
   "version": "3.11.9"
  }
 },
 "nbformat": 4,
 "nbformat_minor": 2
}
